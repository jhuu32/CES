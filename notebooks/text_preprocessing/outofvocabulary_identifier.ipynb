{
 "cells": [
  {
   "cell_type": "markdown",
   "metadata": {},
   "source": [
    "## Out Of Vocabulary Identifier\n",
    "Identify from the training texts all words which are not recognized by the **Fasttest** word embedding model. The result is persisted into ../../data/staging_data/fasttext_outofvocab_words.txt\n"
   ]
  },
  {
   "cell_type": "code",
   "execution_count": 1,
   "metadata": {},
   "outputs": [
    {
     "name": "stderr",
     "output_type": "stream",
     "text": [
      "1152466it [02:24, 7955.62it/s]\n"
     ]
    }
   ],
   "source": [
    "from tqdm import tqdm\n",
    "import os, re, csv, math, codecs\n",
    "import numpy as np\n",
    "\n",
    "embeddings_index = {}\n",
    "f = codecs.open('../../pretrained_models/fasttext/wiki.fr.vec', encoding='utf-8')\n",
    "for line in tqdm(f):\n",
    "    values = line.rstrip().rsplit(' ')\n",
    "    word = values[0]\n",
    "    coefs = np.asarray(values[1:], dtype='float32')\n",
    "    embeddings_index[word] = coefs\n",
    "f.close()"
   ]
  },
  {
   "cell_type": "code",
   "execution_count": 4,
   "metadata": {},
   "outputs": [],
   "source": [
    "from keras.preprocessing.text import Tokenizer\n",
    "import pandas as pd\n",
    "\n",
    "def identifyOutofVocabulary(inputFileName, outputFileName):\n",
    "    XTrain = pd.read_csv(inputFileName, sep=';')\n",
    "\n",
    "    tokenizer = Tokenizer(num_words= 10000)\n",
    "    tokenizer.fit_on_texts(XTrain['question'])\n",
    "\n",
    "    outOfVocabWords = []\n",
    "    for word, i in tokenizer.word_index.items():                \n",
    "        embedding_vector = embeddings_index.get(word)\n",
    "        if embedding_vector is None and not re.search(r\"[a-zA-Zéèàîôûï]\", word) is None:\n",
    "            outOfVocabWords.append(word)\n",
    "\n",
    "    pd.DataFrame(outOfVocabWords).to_csv(outputFileName, index=None, header=None)"
   ]
  },
  {
   "cell_type": "code",
   "execution_count": 7,
   "metadata": {},
   "outputs": [],
   "source": [
    "identifyOutofVocabulary(\n",
    "    inputFileName= '../../data/staging_data/clean_input_train.csv',\n",
    "    outputFileName= '../../data/staging_data/fasttext_outofvocab_words.txt')"
   ]
  }
 ],
 "metadata": {
  "kernelspec": {
   "display_name": "Python 3",
   "language": "python",
   "name": "python3"
  },
  "language_info": {
   "codemirror_mode": {
    "name": "ipython",
    "version": 3
   },
   "file_extension": ".py",
   "mimetype": "text/x-python",
   "name": "python",
   "nbconvert_exporter": "python",
   "pygments_lexer": "ipython3",
   "version": "3.6.5"
  }
 },
 "nbformat": 4,
 "nbformat_minor": 2
}
