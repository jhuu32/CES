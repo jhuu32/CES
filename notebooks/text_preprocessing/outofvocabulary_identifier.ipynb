{
 "cells": [
  {
   "cell_type": "markdown",
   "metadata": {},
   "source": [
    "## Out Of Vocabulary Identifier\n",
    "Identify from the training texts all words which are not recognized by the Fasttest word embedding model. The result is persisted into ../../data/staging_data/outofvocab_words.txt\n"
   ]
  },
  {
   "cell_type": "code",
   "execution_count": 1,
   "metadata": {},
   "outputs": [
    {
     "name": "stderr",
     "output_type": "stream",
     "text": [
      "1152466it [02:23, 8026.87it/s]\n"
     ]
    }
   ],
   "source": [
    "from tqdm import tqdm\n",
    "import os, re, csv, math, codecs\n",
    "import numpy as np\n",
    "\n",
    "embeddings_index = {}\n",
    "f = codecs.open('../../pretrained_models/fasttext/wiki.fr.vec', encoding='utf-8')\n",
    "for line in tqdm(f):\n",
    "    values = line.rstrip().rsplit(' ')\n",
    "    word = values[0]\n",
    "    coefs = np.asarray(values[1:], dtype='float32')\n",
    "    embeddings_index[word] = coefs\n",
    "f.close()"
   ]
  },
  {
   "cell_type": "code",
   "execution_count": 2,
   "metadata": {},
   "outputs": [
    {
     "name": "stderr",
     "output_type": "stream",
     "text": [
      "d:\\ProgramData\\Anaconda3\\lib\\site-packages\\h5py\\__init__.py:36: FutureWarning: Conversion of the second argument of issubdtype from `float` to `np.floating` is deprecated. In future, it will be treated as `np.float64 == np.dtype(float).type`.\n",
      "  from ._conv import register_converters as _register_converters\n",
      "Using TensorFlow backend.\n"
     ]
    }
   ],
   "source": [
    "from keras.preprocessing.text import Tokenizer\n",
    "import pandas as pd\n",
    "\n",
    "\n",
    "XTrain = pd.read_csv('../../data/staging_data/clean_input_train.csv', sep=';')\n",
    "\n",
    "\n",
    "tokenizer = Tokenizer(num_words= 10000)\n",
    "tokenizer.fit_on_texts(XTrain['question'])\n",
    "\n",
    "outOfVocabWords = []\n",
    "for word, i in tokenizer.word_index.items():                \n",
    "    embedding_vector = embeddings_index.get(word)\n",
    "    if embedding_vector is None and not re.search(r\"[a-zA-Zéèàîôûï]\", word) is None:\n",
    "        outOfVocabWords.append(word)\n",
    "        \n",
    "pd.DataFrame(outOfVocabWords).to_csv('../../data/staging_data/outofvocab_words.txt', index=None, header=None)"
   ]
  },
  {
   "cell_type": "code",
   "execution_count": null,
   "metadata": {},
   "outputs": [],
   "source": []
  }
 ],
 "metadata": {
  "kernelspec": {
   "display_name": "Python 3",
   "language": "python",
   "name": "python3"
  },
  "language_info": {
   "codemirror_mode": {
    "name": "ipython",
    "version": 3
   },
   "file_extension": ".py",
   "mimetype": "text/x-python",
   "name": "python",
   "nbconvert_exporter": "python",
   "pygments_lexer": "ipython3",
   "version": "3.6.5"
  }
 },
 "nbformat": 4,
 "nbformat_minor": 2
}
