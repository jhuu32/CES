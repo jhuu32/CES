{
 "cells": [
  {
   "cell_type": "markdown",
   "metadata": {},
   "source": [
    "## Text Cleaner\n",
    "Use regex and ntlk stopwords feature to clean up the text"
   ]
  },
  {
   "cell_type": "code",
   "execution_count": 10,
   "metadata": {},
   "outputs": [
    {
     "name": "stdout",
     "output_type": "stream",
     "text": [
      "[nltk_data] Downloading package stopwords to\n",
      "[nltk_data]     C:\\Users\\Jacques\\AppData\\Roaming\\nltk_data...\n",
      "[nltk_data]   Package stopwords is already up-to-date!\n"
     ]
    }
   ],
   "source": [
    "import re\n",
    "import nltk\n",
    "import string\n",
    "from nltk.corpus import stopwords\n",
    "nltk.download('stopwords')\n",
    "\n",
    "stopWords = set(stopwords.words(\"french\"))\n",
    "# associative pronuouns are required later\n",
    "stopWords.remove(\"ou\")\n",
    "stopWords.remove(\"et\")\n",
    "stopWords.remove(\"avec\")\n",
    "    \n",
    "def cleanText(text):\n",
    "    \n",
    "    # substitute acronym by its more usual equivalent\n",
    "    text = re.sub(r\"([^\\s])[?]\", r\"\\1 ?\", text)\n",
    "    text = re.sub(r\"(\\?|\\.|!){2,5}\", r\"\\1\", text)\n",
    "    text = re.sub(r\"([^\\s])[?]\", r\"\\1 ?\", text)\n",
    "    text = re.sub(\"qu'\", \"que \", text)\n",
    "    text = re.sub(\"\\''\", \"\", text)\n",
    "    text = re.sub('\\\"\"', \"\", text)\n",
    "    text = re.sub(\"n°\", \"numéro\", text)\n",
    "    \n",
    "    # prune out undesired tokens\n",
    "    text = re.sub(\"les \", \" \", text)\n",
    "    text = re.sub(\"\\+\", \" et \", text)\n",
    "    text = re.sub(\"(\\\"|\\(|\\))\", \"\", text)        \n",
    "    text = re.sub(\"-\", \" \", text)\n",
    "    text = re.sub(r\"([A-Za-zèéàê])('|’|®|™)\", \"\", text)\n",
    "    \n",
    "    # mixed numbers+letters like: 6jours => jours (keep only the letters)\n",
    "    text = re.sub(r\"([0-9]+)([A-Za-zèéàêô]+)\", r\"\\2\", text)\n",
    "    text = re.sub(r\"([A-Za-zèéàêô]+)([0-9]+)\", r\"\\2\", text)\n",
    "    \n",
    "    ## remove puncuation\n",
    "    #text = text.translate(string.punctuation)\n",
    "    \n",
    "    ## convert words to lower case and split them\n",
    "    text = text.lower().split()\n",
    "    \n",
    "    text = [w for w in text if not w in stopWords]\n",
    "    \n",
    "    text = \" \".join(text)    \n",
    "    \n",
    "    # dont stem as FastText can cope with morphological variability\n",
    "    #text = text.split()\n",
    "    #stemmer = SnowballStemmer('french')\n",
    "    #stemmed_words = [stemmer.stem(word) for word in text]\n",
    "    #text = \" \".join(stemmed_words)\n",
    "\n",
    "    if len(text) == 0:\n",
    "        text = \" \"\n",
    "    return text"
   ]
  },
  {
   "cell_type": "code",
   "execution_count": 11,
   "metadata": {},
   "outputs": [],
   "source": [
    "import pandas as pd\n",
    "XTrain = pd.read_csv('../../data/POSOS/input_train.csv', sep=';')\n",
    "\n",
    "XTrain['question'] = XTrain['question'].map(lambda x: cleanText(x))\n",
    "\n",
    "XTrain.to_csv('../../data/staging_data/clean_input_train.csv', index=None, sep=\";\")\n"
   ]
  }
 ],
 "metadata": {
  "kernelspec": {
   "display_name": "Python 3",
   "language": "python",
   "name": "python3"
  },
  "language_info": {
   "codemirror_mode": {
    "name": "ipython",
    "version": 3
   },
   "file_extension": ".py",
   "mimetype": "text/x-python",
   "name": "python",
   "nbconvert_exporter": "python",
   "pygments_lexer": "ipython3",
   "version": "3.6.5"
  }
 },
 "nbformat": 4,
 "nbformat_minor": 2
}
