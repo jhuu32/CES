{
 "cells": [
  {
   "cell_type": "markdown",
   "metadata": {},
   "source": [
    "## Text Cleaner\n",
    "Use custom regex and ntlk stopwords feature to clean up the text"
   ]
  },
  {
   "cell_type": "code",
   "execution_count": 27,
   "metadata": {},
   "outputs": [
    {
     "name": "stdout",
     "output_type": "stream",
     "text": [
      "The autoreload extension is already loaded. To reload it, use:\n",
      "  %reload_ext autoreload\n",
      "[nltk_data] Downloading package stopwords to\n",
      "[nltk_data]     C:\\Users\\Jacques\\AppData\\Roaming\\nltk_data...\n",
      "[nltk_data]   Package stopwords is already up-to-date!\n"
     ]
    }
   ],
   "source": [
    "%load_ext autoreload\n",
    "%autoreload 2\n",
    "\n",
    "import pandas as pd\n",
    "import sys\n",
    "sys.path.append('..')\n",
    "from utils import textcleaner\n",
    "import nltk\n",
    "from nltk.corpus import stopwords\n",
    "nltk.download('stopwords')\n",
    "\n",
    "def cleanTexts(\n",
    "    intputFileName,\n",
    "    outputFileName,\n",
    "    removePunctuation,\n",
    "    useStemming,\n",
    "    useStopWords,\n",
    "    excludeStopWords = None,\n",
    "    excludeStemmedWords = None):\n",
    "    \n",
    "    if useStopWords:\n",
    "        frenchStopWords = set(stopwords.words(\"french\"))\n",
    "    else:\n",
    "        frenchStopWords = None\n",
    "    \n",
    "    if not excludeStopWords is None:\n",
    "        for word in excludeStopWords:\n",
    "            try:\n",
    "                frenchStopWords.remove(word)\n",
    "            except:\n",
    "                pass\n",
    "    \n",
    "    XTrain = pd.read_csv(intputFileName, sep=';')\n",
    "    XTrain['question'] = XTrain['question'].map(lambda text: textcleaner.cleanText(text, frenchStopWords, useStemming, removePunctuation, excludeStemmedWords = excludeStemmedWords))\n",
    "    XTrain.to_csv(outputFileName, index=None, sep=\";\")"
   ]
  },
  {
   "cell_type": "code",
   "execution_count": 31,
   "metadata": {},
   "outputs": [],
   "source": [
    "\n",
    "# associative pronuouns, interrogative pronouns and time entities are required later for text statistic\n",
    "excludedWords = \\\n",
    "  ['ou', 'et', 'avec'] + \\\n",
    "  ['quoi', 'combien', 'quand', 'pourquoi', 'quel'] + \\\n",
    "  ['demain', 'hier', 'matin', 'midi', 'soir', 'jours', 'mois', 'semaines', 'semaine', 'heure', 'heures', \"aujourd'hui\", \"temps\"]  \n",
    "\n",
    "cleanTexts(\n",
    "    intputFileName = '../../data/POSOS/input_train.csv',\n",
    "    outputFileName = '../../data/staging_data/stemmed_clean_input_train.csv',\n",
    "    excludeStopWords = excludedWords,\n",
    "    excludeStemmedWords = excludedWords,\n",
    "    removePunctuation=False,\n",
    "    useStemming = True,\n",
    "    useStopWords= True)\n",
    "\n",
    "cleanTexts(\n",
    "    intputFileName = '../../data/POSOS/input_train.csv',\n",
    "    outputFileName = '../../data/staging_data/nostopwords_clean_input_train.csv',\n",
    "    excludeStopWords = None,\n",
    "    removePunctuation=True,\n",
    "    useStemming = False,\n",
    "    useStopWords = False)"
   ]
  }
 ],
 "metadata": {
  "kernelspec": {
   "display_name": "Python 3",
   "language": "python",
   "name": "python3"
  },
  "language_info": {
   "codemirror_mode": {
    "name": "ipython",
    "version": 3
   },
   "file_extension": ".py",
   "mimetype": "text/x-python",
   "name": "python",
   "nbconvert_exporter": "python",
   "pygments_lexer": "ipython3",
   "version": "3.6.5"
  }
 },
 "nbformat": 4,
 "nbformat_minor": 2
}
