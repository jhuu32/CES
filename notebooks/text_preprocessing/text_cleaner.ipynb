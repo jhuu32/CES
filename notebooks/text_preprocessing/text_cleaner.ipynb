{
 "cells": [
  {
   "cell_type": "markdown",
   "metadata": {},
   "source": [
    "## Text Cleaner\n",
    "Use custom regex and ntlk stopwords feature to clean up the text"
   ]
  },
  {
   "cell_type": "code",
   "execution_count": 111,
   "metadata": {},
   "outputs": [
    {
     "name": "stdout",
     "output_type": "stream",
     "text": [
      "[nltk_data] Downloading package stopwords to\n",
      "[nltk_data]     C:\\Users\\Jacques\\AppData\\Roaming\\nltk_data...\n",
      "[nltk_data]   Package stopwords is already up-to-date!\n"
     ]
    }
   ],
   "source": [
    "import re\n",
    "import nltk\n",
    "import string\n",
    "from nltk.stem.snowball import SnowballStemmer\n",
    "from nltk.corpus import stopwords\n",
    "nltk.download('stopwords')\n",
    "\n",
    "stemmer = SnowballStemmer('french')\n",
    "\n",
    "punctationRegEx = re.compile('(\\.|\\!|\\?|:|;|,|\\\")')\n",
    "numberRegEx = re.compile(\"([0-9]+)\")\n",
    "    \n",
    "def cleanText(text, useStemming=False, useStopWords = True, removePunctuation=True):\n",
    "    \n",
    "    # lower case\n",
    "    text = text.lower()\n",
    "    \n",
    "    # substitute acronym and repetitive characters by its more canonical equivalent token\n",
    "    text = re.sub(\"qu'\", \"que \", text)\n",
    "    text = re.sub(\"qu \", \"que \", text)\n",
    "    text = re.sub(\"n°\", \"numéro \", text)\n",
    "    text = re.sub(\"bcp\", \"beaucoup\", text)\n",
    "    text = re.sub(\"s.v.p\", \"s'il vous plait\", text)    \n",
    "    text = re.sub(\"tt \", \"tout \", text)    \n",
    "    text = re.sub(\"\\+\", \" et \", text)\n",
    "    \n",
    "    text = re.sub(r\"([^\\s])[?]\", r\"\\1 ?\", text) # sticky question mark: add a space\n",
    "    text = re.sub(r\"(\\?|\\.|!){2,5}\", r\"\\1 \", text) # repertitive characters => keep one representative\n",
    "    \n",
    "    \n",
    "    text = re.sub(\"\", \"\", text)    \n",
    "    \n",
    "    # expand separators / special characters\n",
    "    text = re.sub(\"®|™|°|\\/|-|\\*|•|=|\\(|\\)|%|\\{|\\}\", \" \", text)\n",
    "    \n",
    "    # remove the contractions: eg: l’, m’, ...\n",
    "    text = re.sub(\"(\\s[a-zA-Z][’|\\'])\", \" \", text)    \n",
    "    text = re.sub(\"^([a-zA-Z][’|\\'])\", \"\", text)    \n",
    "    \n",
    "    # remove numbers\n",
    "    text = numberRegEx.sub(\"\", text)\n",
    "        \n",
    "    ## remove puncuation\n",
    "    if removePunctuation:\n",
    "        text = punctationRegEx.sub(\" \", text)\n",
    "    \n",
    "    # convert words to lower case and split them    \n",
    "    if useStopWords:\n",
    "        text = text.split()\n",
    "        text = [w for w in text if not w in stopWords]\n",
    "        text = \" \".join(text)    \n",
    "    \n",
    "    if useStemming:\n",
    "        text = text.split()        \n",
    "        stemmedWords = [stemmer.stem(word) for word in text]\n",
    "        text = \" \".join(stemmedWords)\n",
    "\n",
    "    # compact successive space character\n",
    "    text = re.sub(\"([\\s]+)\", \" \", text)\n",
    "    \n",
    "    if len(text) == 0:\n",
    "        text = \" \"\n",
    "        \n",
    "    return text"
   ]
  },
  {
   "cell_type": "code",
   "execution_count": 112,
   "metadata": {},
   "outputs": [],
   "source": [
    "import pandas as pd\n",
    "\n",
    "def cleanTexts(intputFileName, outputFileName, excludeStopWords, removePunctuation, useStemming):\n",
    "    \n",
    "    stopWords = set(stopwords.words(\"french\"))\n",
    "    \n",
    "    if not excludeStopWords is None:\n",
    "        for word in excludeStopWords:\n",
    "            stopWords.remove(word)\n",
    "    \n",
    "    XTrain = pd.read_csv(intputFileName, sep=';')\n",
    "    XTrain['question'] = XTrain['question'].map(lambda text: cleanText(text, useStemming, removePunctuation))\n",
    "    XTrain.to_csv(outputFileName, index=None, sep=\";\")"
   ]
  },
  {
   "cell_type": "code",
   "execution_count": 113,
   "metadata": {},
   "outputs": [],
   "source": [
    "cleanTexts(\n",
    "    intputFileName = '../../data/POSOS/input_train.csv',\n",
    "    outputFileName = '../../data/staging_data/stemmed_clean_input_train.csv',\n",
    "    excludeStopWords = ['ou', 'et', 'avec'], # associative pronuouns are required later for text statistic\n",
    "    removePunctuation=False,\n",
    "    useStemming = True)\n",
    "\n",
    "cleanTexts(\n",
    "    intputFileName = '../../data/POSOS/input_train.csv',\n",
    "    outputFileName = '../../data/staging_data/clean_input_train.csv',\n",
    "    excludeStopWords = None,\n",
    "    removePunctuation=False,\n",
    "    useStemming = False)"
   ]
  }
 ],
 "metadata": {
  "kernelspec": {
   "display_name": "Python 3",
   "language": "python",
   "name": "python3"
  },
  "language_info": {
   "codemirror_mode": {
    "name": "ipython",
    "version": 3
   },
   "file_extension": ".py",
   "mimetype": "text/x-python",
   "name": "python",
   "nbconvert_exporter": "python",
   "pygments_lexer": "ipython3",
   "version": "3.6.5"
  }
 },
 "nbformat": 4,
 "nbformat_minor": 2
}
