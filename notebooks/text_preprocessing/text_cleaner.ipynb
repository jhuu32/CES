{
 "cells": [
  {
   "cell_type": "markdown",
   "metadata": {},
   "source": [
    "## Text Cleaner\n",
    "Use custom regex and ntlk stopwords feature to clean up the text"
   ]
  },
  {
   "cell_type": "code",
   "execution_count": 7,
   "metadata": {},
   "outputs": [
    {
     "name": "stdout",
     "output_type": "stream",
     "text": [
      "[nltk_data] Downloading package stopwords to\n",
      "[nltk_data]     C:\\Users\\Jacques\\AppData\\Roaming\\nltk_data...\n",
      "[nltk_data]   Package stopwords is already up-to-date!\n"
     ]
    }
   ],
   "source": [
    "import pandas as pd\n",
    "import sys\n",
    "sys.path.append('..')\n",
    "from utils import textcleaner\n",
    "import nltk\n",
    "from nltk.corpus import stopwords\n",
    "nltk.download('stopwords')\n",
    "\n",
    "def cleanTexts(intputFileName, outputFileName, excludeStopWords, removePunctuation, useStemming, useStopWords):\n",
    "    \n",
    "    if useStopWords:\n",
    "        frenchStopWords = set(stopwords.words(\"french\"))\n",
    "    else:\n",
    "        frenchStopWords = None\n",
    "    \n",
    "    if not excludeStopWords is None:\n",
    "        for word in excludeStopWords:\n",
    "            frenchStopWords.remove(word)\n",
    "    \n",
    "    XTrain = pd.read_csv(intputFileName, sep=';')\n",
    "    XTrain['question'] = XTrain['question'].map(lambda text: textcleaner.cleanText(text, frenchStopWords, useStemming, removePunctuation))\n",
    "    XTrain.to_csv(outputFileName, index=None, sep=\";\")"
   ]
  },
  {
   "cell_type": "code",
   "execution_count": 8,
   "metadata": {},
   "outputs": [],
   "source": [
    "cleanTexts(\n",
    "    intputFileName = '../../data/POSOS/input_train.csv',\n",
    "    outputFileName = '../../data/staging_data/stemmed_clean_input_train.csv',\n",
    "    excludeStopWords = ['ou', 'et', 'avec'], # associative pronuouns are required later for text statistic\n",
    "    removePunctuation=False,\n",
    "    useStemming = True,\n",
    "    useStopWords= True)\n",
    "\n",
    "cleanTexts(\n",
    "    intputFileName = '../../data/POSOS/input_train.csv',\n",
    "    outputFileName = '../../data/staging_data/nostopwords_clean_input_train.csv',\n",
    "    excludeStopWords = None,\n",
    "    removePunctuation=True,\n",
    "    useStemming = False,\n",
    "    useStopWords = False)"
   ]
  }
 ],
 "metadata": {
  "kernelspec": {
   "display_name": "Python 3",
   "language": "python",
   "name": "python3"
  },
  "language_info": {
   "codemirror_mode": {
    "name": "ipython",
    "version": 3
   },
   "file_extension": ".py",
   "mimetype": "text/x-python",
   "name": "python",
   "nbconvert_exporter": "python",
   "pygments_lexer": "ipython3",
   "version": "3.6.5"
  }
 },
 "nbformat": 4,
 "nbformat_minor": 2
}
