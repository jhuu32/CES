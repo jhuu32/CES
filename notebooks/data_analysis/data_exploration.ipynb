{
 "cells": [
  {
   "cell_type": "markdown",
   "metadata": {},
   "source": [
    "# DATA EXPLORATION\n",
    "explore training dataset of the data challenge to resolve"
   ]
  },
  {
   "cell_type": "code",
   "execution_count": 34,
   "metadata": {},
   "outputs": [],
   "source": [
    "import pandas as pd\n",
    "import numpy as np\n",
    "\n",
    "pd.set_option(\"display.max_colwidth\",2000)\n",
    "\n",
    "# loading data\n",
    "XTrain = pd.read_csv('../../data/POSOS/input_train.csv', sep=';')\n",
    "XTest = pd.read_csv('../../data/POSOS//input_test.csv', sep=';')\n",
    "YTrain = pd.read_csv('../../data/POSOS/label.csv', sep=';')"
   ]
  },
  {
   "cell_type": "code",
   "execution_count": 35,
   "metadata": {},
   "outputs": [
    {
     "data": {
      "text/html": [
       "<div>\n",
       "<style scoped>\n",
       "    .dataframe tbody tr th:only-of-type {\n",
       "        vertical-align: middle;\n",
       "    }\n",
       "\n",
       "    .dataframe tbody tr th {\n",
       "        vertical-align: top;\n",
       "    }\n",
       "\n",
       "    .dataframe thead th {\n",
       "        text-align: right;\n",
       "    }\n",
       "</style>\n",
       "<table border=\"1\" class=\"dataframe\">\n",
       "  <thead>\n",
       "    <tr style=\"text-align: right;\">\n",
       "      <th></th>\n",
       "      <th>ID</th>\n",
       "      <th>question</th>\n",
       "      <th>intention</th>\n",
       "    </tr>\n",
       "  </thead>\n",
       "  <tbody>\n",
       "    <tr>\n",
       "      <th>0</th>\n",
       "      <td>0</td>\n",
       "      <td>bonjour,  je m suis trompé de forum pour ma question alors je la repose ici. je pris pour la première fois hier du paroxétine et ce matin c'est une catastrophe. picotement dasn tous le corps annonciateur de sueur froide très très massive et de vomissement. j'en suis à deux crises depuis 5 heure du mat. la cela semble passer mes mes mains reste moites et chaude estce normal pour la première fois merci a tous</td>\n",
       "      <td>28</td>\n",
       "    </tr>\n",
       "    <tr>\n",
       "      <th>1</th>\n",
       "      <td>1</td>\n",
       "      <td>est ce que le motilium me soulagera contre les nausées?</td>\n",
       "      <td>31</td>\n",
       "    </tr>\n",
       "    <tr>\n",
       "      <th>2</th>\n",
       "      <td>2</td>\n",
       "      <td>mon médecin m'a prescrit adenyl. au 2ème cachet des maux de tête terribles et au 3ème palpitations, sueurs froides, chaleur intense dans la tête, tremblements, fourmillements dans la lèvre supérieure, difficultés à respirer.. dès l'arrêt du médicament tous les symptômes ont disparu. cela est-il déjà arrivé à quelqu'un??</td>\n",
       "      <td>28</td>\n",
       "    </tr>\n",
       "    <tr>\n",
       "      <th>3</th>\n",
       "      <td>3</td>\n",
       "      <td>Est-ce qu'il existe une forme adaptée aux enfant de 5ans du Micropakine ?</td>\n",
       "      <td>44</td>\n",
       "    </tr>\n",
       "    <tr>\n",
       "      <th>4</th>\n",
       "      <td>4</td>\n",
       "      <td>mon  medecin  me soigne  pour  une  rhino  pharingite  et  m'a  prescrit du amoxicilline comme  anti  biotique. Est-ce vraiment pour cette indication?</td>\n",
       "      <td>31</td>\n",
       "    </tr>\n",
       "    <tr>\n",
       "      <th>5</th>\n",
       "      <td>5</td>\n",
       "      <td>je viens d'apprendre que je suis enceinte..savez-vous si je peux poursuivre le rubozinc ?</td>\n",
       "      <td>44</td>\n",
       "    </tr>\n",
       "    <tr>\n",
       "      <th>6</th>\n",
       "      <td>6</td>\n",
       "      <td>atrax n'est-il pas dangereux au long terme ?</td>\n",
       "      <td>48</td>\n",
       "    </tr>\n",
       "    <tr>\n",
       "      <th>7</th>\n",
       "      <td>7</td>\n",
       "      <td>je suis sous mercilon. J'ai des nausées et des saignements ?</td>\n",
       "      <td>28</td>\n",
       "    </tr>\n",
       "    <tr>\n",
       "      <th>8</th>\n",
       "      <td>8</td>\n",
       "      <td>L'atenolol, c'est quoi ?</td>\n",
       "      <td>22</td>\n",
       "    </tr>\n",
       "    <tr>\n",
       "      <th>9</th>\n",
       "      <td>9</td>\n",
       "      <td>je prend trinordiol et à la fin de ma première plaquette j'ai eu ma première fois ac mn copain. la pilule est donc bien efficace dès le debut ? j'ai des douleur dans la poitrine, j'ai l'impression qu'ils ont un peu grossi ossi de plus, j'ai mal o bas du ventr,e dois je minkiété ou c simplemen, la periode dadaptation ??</td>\n",
       "      <td>23</td>\n",
       "    </tr>\n",
       "  </tbody>\n",
       "</table>\n",
       "</div>"
      ],
      "text/plain": [
       "   ID  \\\n",
       "0   0   \n",
       "1   1   \n",
       "2   2   \n",
       "3   3   \n",
       "4   4   \n",
       "5   5   \n",
       "6   6   \n",
       "7   7   \n",
       "8   8   \n",
       "9   9   \n",
       "\n",
       "                                                                                                                                                                                                                                                                                                                                                                                                                     question  \\\n",
       "0  bonjour,  je m suis trompé de forum pour ma question alors je la repose ici. je pris pour la première fois hier du paroxétine et ce matin c'est une catastrophe. picotement dasn tous le corps annonciateur de sueur froide très très massive et de vomissement. j'en suis à deux crises depuis 5 heure du mat. la cela semble passer mes mes mains reste moites et chaude estce normal pour la première fois merci a tous   \n",
       "1                                                                                                                                                                                                                                                                                                                                                                     est ce que le motilium me soulagera contre les nausées?   \n",
       "2                                                                                           mon médecin m'a prescrit adenyl. au 2ème cachet des maux de tête terribles et au 3ème palpitations, sueurs froides, chaleur intense dans la tête, tremblements, fourmillements dans la lèvre supérieure, difficultés à respirer.. dès l'arrêt du médicament tous les symptômes ont disparu. cela est-il déjà arrivé à quelqu'un??   \n",
       "3                                                                                                                                                                                                                                                                                                                                                   Est-ce qu'il existe une forme adaptée aux enfant de 5ans du Micropakine ?   \n",
       "4                                                                                                                                                                                                                                                                      mon  medecin  me soigne  pour  une  rhino  pharingite  et  m'a  prescrit du amoxicilline comme  anti  biotique. Est-ce vraiment pour cette indication?   \n",
       "5                                                                                                                                                                                                                                                                                                                                   je viens d'apprendre que je suis enceinte..savez-vous si je peux poursuivre le rubozinc ?   \n",
       "6                                                                                                                                                                                                                                                                                                                                                                                atrax n'est-il pas dangereux au long terme ?   \n",
       "7                                                                                                                                                                                                                                                                                                                                                                je suis sous mercilon. J'ai des nausées et des saignements ?   \n",
       "8                                                                                                                                                                                                                                                                                                                                                                                                    L'atenolol, c'est quoi ?   \n",
       "9                                                                                            je prend trinordiol et à la fin de ma première plaquette j'ai eu ma première fois ac mn copain. la pilule est donc bien efficace dès le debut ? j'ai des douleur dans la poitrine, j'ai l'impression qu'ils ont un peu grossi ossi de plus, j'ai mal o bas du ventr,e dois je minkiété ou c simplemen, la periode dadaptation ??   \n",
       "\n",
       "   intention  \n",
       "0         28  \n",
       "1         31  \n",
       "2         28  \n",
       "3         44  \n",
       "4         31  \n",
       "5         44  \n",
       "6         48  \n",
       "7         28  \n",
       "8         22  \n",
       "9         23  "
      ]
     },
     "execution_count": 35,
     "metadata": {},
     "output_type": "execute_result"
    }
   ],
   "source": [
    "# merging feature space and the label on ID column\n",
    "XYTrain = XTrain.merge(YTrain, on='ID')\n",
    "XYTrain.head(10)"
   ]
  },
  {
   "cell_type": "markdown",
   "metadata": {},
   "source": [
    "# Target distribution"
   ]
  },
  {
   "cell_type": "code",
   "execution_count": 36,
   "metadata": {
    "scrolled": true
   },
   "outputs": [
    {
     "data": {
      "text/plain": [
       "array([<matplotlib.axes._subplots.AxesSubplot object at 0x0000016207590E48>],\n",
       "      dtype=object)"
      ]
     },
     "execution_count": 36,
     "metadata": {},
     "output_type": "execute_result"
    },
    {
     "data": {
      "image/png": "[encoded data removed]",
      "text/plain": [
       "<Figure size 720x432 with 1 Axes>"
      ]
     },
     "metadata": {},
     "output_type": "display_data"
    }
   ],
   "source": [
    "# vizualize intention distribution\n",
    "%matplotlib inline\n",
    "import matplotlib.pyplot as plt\n",
    "YTrain['intention'].plot(kind='hist',subplots=True,sharex=True,sharey=True,title='target frequency distribution',figsize=(10,6),bins=51)"
   ]
  },
  {
   "cell_type": "markdown",
   "metadata": {},
   "source": [
    "Target classes are actually imbalanced"
   ]
  },
  {
   "cell_type": "code",
   "execution_count": 37,
   "metadata": {},
   "outputs": [
    {
     "data": {
      "text/html": [
       "<div>\n",
       "<style scoped>\n",
       "    .dataframe tbody tr th:only-of-type {\n",
       "        vertical-align: middle;\n",
       "    }\n",
       "\n",
       "    .dataframe tbody tr th {\n",
       "        vertical-align: top;\n",
       "    }\n",
       "\n",
       "    .dataframe thead th {\n",
       "        text-align: right;\n",
       "    }\n",
       "</style>\n",
       "<table border=\"1\" class=\"dataframe\">\n",
       "  <thead>\n",
       "    <tr style=\"text-align: right;\">\n",
       "      <th></th>\n",
       "      <th>ID</th>\n",
       "    </tr>\n",
       "  </thead>\n",
       "  <tbody>\n",
       "    <tr>\n",
       "      <th>count</th>\n",
       "      <td>51.000000</td>\n",
       "    </tr>\n",
       "    <tr>\n",
       "      <th>mean</th>\n",
       "      <td>157.411765</td>\n",
       "    </tr>\n",
       "    <tr>\n",
       "      <th>std</th>\n",
       "      <td>273.415448</td>\n",
       "    </tr>\n",
       "    <tr>\n",
       "      <th>min</th>\n",
       "      <td>7.000000</td>\n",
       "    </tr>\n",
       "    <tr>\n",
       "      <th>25%</th>\n",
       "      <td>25.500000</td>\n",
       "    </tr>\n",
       "    <tr>\n",
       "      <th>50%</th>\n",
       "      <td>72.000000</td>\n",
       "    </tr>\n",
       "    <tr>\n",
       "      <th>75%</th>\n",
       "      <td>162.000000</td>\n",
       "    </tr>\n",
       "    <tr>\n",
       "      <th>max</th>\n",
       "      <td>1796.000000</td>\n",
       "    </tr>\n",
       "  </tbody>\n",
       "</table>\n",
       "</div>"
      ],
      "text/plain": [
       "                ID\n",
       "count    51.000000\n",
       "mean    157.411765\n",
       "std     273.415448\n",
       "min       7.000000\n",
       "25%      25.500000\n",
       "50%      72.000000\n",
       "75%     162.000000\n",
       "max    1796.000000"
      ]
     },
     "execution_count": 37,
     "metadata": {},
     "output_type": "execute_result"
    }
   ],
   "source": [
    "hist = YTrain.groupby(['intention']).count()\n",
    "hist.describe()"
   ]
  },
  {
   "cell_type": "markdown",
   "metadata": {},
   "source": [
    "Most of classes to predict have very low associated explanatory observations (mean=157 and median=72). As an outlier, one class holds 1750 observations"
   ]
  },
  {
   "cell_type": "markdown",
   "metadata": {},
   "source": [
    "## Guess the semantic of relevant target classes (intent)\n",
    "The target classes are indices and the semantic is therefore anonymized"
   ]
  },
  {
   "cell_type": "markdown",
   "metadata": {},
   "source": [
    "### Manual Semantic Guess"
   ]
  },
  {
   "cell_type": "markdown",
   "metadata": {},
   "source": [
    "#### first mode (intention=28)\n",
    "\n",
    "probably it's related question on **drug side effects**"
   ]
  },
  {
   "cell_type": "code",
   "execution_count": 38,
   "metadata": {},
   "outputs": [
    {
     "data": {
      "text/html": [
       "<div>\n",
       "<style scoped>\n",
       "    .dataframe tbody tr th:only-of-type {\n",
       "        vertical-align: middle;\n",
       "    }\n",
       "\n",
       "    .dataframe tbody tr th {\n",
       "        vertical-align: top;\n",
       "    }\n",
       "\n",
       "    .dataframe thead th {\n",
       "        text-align: right;\n",
       "    }\n",
       "</style>\n",
       "<table border=\"1\" class=\"dataframe\">\n",
       "  <thead>\n",
       "    <tr style=\"text-align: right;\">\n",
       "      <th></th>\n",
       "      <th>ID</th>\n",
       "      <th>question</th>\n",
       "      <th>intention</th>\n",
       "    </tr>\n",
       "  </thead>\n",
       "  <tbody>\n",
       "    <tr>\n",
       "      <th>0</th>\n",
       "      <td>0</td>\n",
       "      <td>bonjour,  je m suis trompé de forum pour ma question alors je la repose ici. je pris pour la première fois hier du paroxétine et ce matin c'est une catastrophe. picotement dasn tous le corps annonciateur de sueur froide très très massive et de vomissement. j'en suis à deux crises depuis 5 heure du mat. la cela semble passer mes mes mains reste moites et chaude estce normal pour la première fois merci a tous</td>\n",
       "      <td>28</td>\n",
       "    </tr>\n",
       "    <tr>\n",
       "      <th>2</th>\n",
       "      <td>2</td>\n",
       "      <td>mon médecin m'a prescrit adenyl. au 2ème cachet des maux de tête terribles et au 3ème palpitations, sueurs froides, chaleur intense dans la tête, tremblements, fourmillements dans la lèvre supérieure, difficultés à respirer.. dès l'arrêt du médicament tous les symptômes ont disparu. cela est-il déjà arrivé à quelqu'un??</td>\n",
       "      <td>28</td>\n",
       "    </tr>\n",
       "    <tr>\n",
       "      <th>7</th>\n",
       "      <td>7</td>\n",
       "      <td>je suis sous mercilon. J'ai des nausées et des saignements ?</td>\n",
       "      <td>28</td>\n",
       "    </tr>\n",
       "    <tr>\n",
       "      <th>12</th>\n",
       "      <td>12</td>\n",
       "      <td>je suis sous antiobiotique depuis bientot une semaine et je me suis chopée je ne sais quoi à ma nénétte, ca gratte,c'est superficiel mais ca démenge à un point, est ce lié à l'antibiotique?</td>\n",
       "      <td>28</td>\n",
       "    </tr>\n",
       "    <tr>\n",
       "      <th>14</th>\n",
       "      <td>14</td>\n",
       "      <td>épilepsie et havlane ?</td>\n",
       "      <td>28</td>\n",
       "    </tr>\n",
       "  </tbody>\n",
       "</table>\n",
       "</div>"
      ],
      "text/plain": [
       "    ID  \\\n",
       "0    0   \n",
       "2    2   \n",
       "7    7   \n",
       "12  12   \n",
       "14  14   \n",
       "\n",
       "                                                                                                                                                                                                                                                                                                                                                                                                                      question  \\\n",
       "0   bonjour,  je m suis trompé de forum pour ma question alors je la repose ici. je pris pour la première fois hier du paroxétine et ce matin c'est une catastrophe. picotement dasn tous le corps annonciateur de sueur froide très très massive et de vomissement. j'en suis à deux crises depuis 5 heure du mat. la cela semble passer mes mes mains reste moites et chaude estce normal pour la première fois merci a tous   \n",
       "2                                                                                            mon médecin m'a prescrit adenyl. au 2ème cachet des maux de tête terribles et au 3ème palpitations, sueurs froides, chaleur intense dans la tête, tremblements, fourmillements dans la lèvre supérieure, difficultés à respirer.. dès l'arrêt du médicament tous les symptômes ont disparu. cela est-il déjà arrivé à quelqu'un??   \n",
       "7                                                                                                                                                                                                                                                                                                                                                                 je suis sous mercilon. J'ai des nausées et des saignements ?   \n",
       "12                                                                                                                                                                                                                               je suis sous antiobiotique depuis bientot une semaine et je me suis chopée je ne sais quoi à ma nénétte, ca gratte,c'est superficiel mais ca démenge à un point, est ce lié à l'antibiotique?   \n",
       "14                                                                                                                                                                                                                                                                                                                                                                                                      épilepsie et havlane ?   \n",
       "\n",
       "    intention  \n",
       "0          28  \n",
       "2          28  \n",
       "7          28  \n",
       "12         28  \n",
       "14         28  "
      ]
     },
     "execution_count": 38,
     "metadata": {},
     "output_type": "execute_result"
    }
   ],
   "source": [
    "XYTrain[XYTrain.intention == 28].head(5)"
   ]
  },
  {
   "cell_type": "markdown",
   "metadata": {},
   "source": [
    "#### second mode (intention=31)\n",
    "\n",
    "probably it's related question on **symptom-drug adequacy**"
   ]
  },
  {
   "cell_type": "code",
   "execution_count": 39,
   "metadata": {},
   "outputs": [
    {
     "data": {
      "text/html": [
       "<div>\n",
       "<style scoped>\n",
       "    .dataframe tbody tr th:only-of-type {\n",
       "        vertical-align: middle;\n",
       "    }\n",
       "\n",
       "    .dataframe tbody tr th {\n",
       "        vertical-align: top;\n",
       "    }\n",
       "\n",
       "    .dataframe thead th {\n",
       "        text-align: right;\n",
       "    }\n",
       "</style>\n",
       "<table border=\"1\" class=\"dataframe\">\n",
       "  <thead>\n",
       "    <tr style=\"text-align: right;\">\n",
       "      <th></th>\n",
       "      <th>ID</th>\n",
       "      <th>question</th>\n",
       "      <th>intention</th>\n",
       "    </tr>\n",
       "  </thead>\n",
       "  <tbody>\n",
       "    <tr>\n",
       "      <th>1</th>\n",
       "      <td>1</td>\n",
       "      <td>est ce que le motilium me soulagera contre les nausées?</td>\n",
       "      <td>31</td>\n",
       "    </tr>\n",
       "    <tr>\n",
       "      <th>4</th>\n",
       "      <td>4</td>\n",
       "      <td>mon  medecin  me soigne  pour  une  rhino  pharingite  et  m'a  prescrit du amoxicilline comme  anti  biotique. Est-ce vraiment pour cette indication?</td>\n",
       "      <td>31</td>\n",
       "    </tr>\n",
       "    <tr>\n",
       "      <th>10</th>\n",
       "      <td>10</td>\n",
       "      <td>laroxyl à doses faibles pour le stress ?</td>\n",
       "      <td>31</td>\n",
       "    </tr>\n",
       "    <tr>\n",
       "      <th>31</th>\n",
       "      <td>31</td>\n",
       "      <td>La lidocaïne aide-t-elle à maigrir ?</td>\n",
       "      <td>31</td>\n",
       "    </tr>\n",
       "    <tr>\n",
       "      <th>37</th>\n",
       "      <td>37</td>\n",
       "      <td>L'euphytose est urtile pour l'anxiété ?</td>\n",
       "      <td>31</td>\n",
       "    </tr>\n",
       "  </tbody>\n",
       "</table>\n",
       "</div>"
      ],
      "text/plain": [
       "    ID  \\\n",
       "1    1   \n",
       "4    4   \n",
       "10  10   \n",
       "31  31   \n",
       "37  37   \n",
       "\n",
       "                                                                                                                                                  question  \\\n",
       "1                                                                                                  est ce que le motilium me soulagera contre les nausées?   \n",
       "4   mon  medecin  me soigne  pour  une  rhino  pharingite  et  m'a  prescrit du amoxicilline comme  anti  biotique. Est-ce vraiment pour cette indication?   \n",
       "10                                                                                                                laroxyl à doses faibles pour le stress ?   \n",
       "31                                                                                                                    La lidocaïne aide-t-elle à maigrir ?   \n",
       "37                                                                                                                 L'euphytose est urtile pour l'anxiété ?   \n",
       "\n",
       "    intention  \n",
       "1          31  \n",
       "4          31  \n",
       "10         31  \n",
       "31         31  \n",
       "37         31  "
      ]
     },
     "execution_count": 39,
     "metadata": {},
     "output_type": "execute_result"
    }
   ],
   "source": [
    "XYTrain[XYTrain.intention == 31].head(5)"
   ]
  },
  {
   "cell_type": "markdown",
   "metadata": {},
   "source": [
    "#### third mode (intention=44)\n",
    "probably question on **pregnancy-drug interaction**"
   ]
  },
  {
   "cell_type": "code",
   "execution_count": 40,
   "metadata": {},
   "outputs": [
    {
     "data": {
      "text/html": [
       "<div>\n",
       "<style scoped>\n",
       "    .dataframe tbody tr th:only-of-type {\n",
       "        vertical-align: middle;\n",
       "    }\n",
       "\n",
       "    .dataframe tbody tr th {\n",
       "        vertical-align: top;\n",
       "    }\n",
       "\n",
       "    .dataframe thead th {\n",
       "        text-align: right;\n",
       "    }\n",
       "</style>\n",
       "<table border=\"1\" class=\"dataframe\">\n",
       "  <thead>\n",
       "    <tr style=\"text-align: right;\">\n",
       "      <th></th>\n",
       "      <th>ID</th>\n",
       "      <th>question</th>\n",
       "      <th>intention</th>\n",
       "    </tr>\n",
       "  </thead>\n",
       "  <tbody>\n",
       "    <tr>\n",
       "      <th>3</th>\n",
       "      <td>3</td>\n",
       "      <td>Est-ce qu'il existe une forme adaptée aux enfant de 5ans du Micropakine ?</td>\n",
       "      <td>44</td>\n",
       "    </tr>\n",
       "    <tr>\n",
       "      <th>5</th>\n",
       "      <td>5</td>\n",
       "      <td>je viens d'apprendre que je suis enceinte..savez-vous si je peux poursuivre le rubozinc ?</td>\n",
       "      <td>44</td>\n",
       "    </tr>\n",
       "    <tr>\n",
       "      <th>15</th>\n",
       "      <td>15</td>\n",
       "      <td>vaccins dtpe et hépatire b sont ils possible pendant la grossesse?</td>\n",
       "      <td>44</td>\n",
       "    </tr>\n",
       "    <tr>\n",
       "      <th>25</th>\n",
       "      <td>25</td>\n",
       "      <td>percutafeine peut-il être utiliser par les hommes ?</td>\n",
       "      <td>44</td>\n",
       "    </tr>\n",
       "    <tr>\n",
       "      <th>30</th>\n",
       "      <td>30</td>\n",
       "      <td>Une maman reçoit la prescription de Montelukast 4mg Arrow granulés pour son bébé de 5 mois, elle demande si cette forme est adaptée alors que son bébé ne mange pas encore solide ?</td>\n",
       "      <td>44</td>\n",
       "    </tr>\n",
       "  </tbody>\n",
       "</table>\n",
       "</div>"
      ],
      "text/plain": [
       "    ID  \\\n",
       "3    3   \n",
       "5    5   \n",
       "15  15   \n",
       "25  25   \n",
       "30  30   \n",
       "\n",
       "                                                                                                                                                                               question  \\\n",
       "3                                                                                                             Est-ce qu'il existe une forme adaptée aux enfant de 5ans du Micropakine ?   \n",
       "5                                                                                             je viens d'apprendre que je suis enceinte..savez-vous si je peux poursuivre le rubozinc ?   \n",
       "15                                                                                                                   vaccins dtpe et hépatire b sont ils possible pendant la grossesse?   \n",
       "25                                                                                                                                  percutafeine peut-il être utiliser par les hommes ?   \n",
       "30  Une maman reçoit la prescription de Montelukast 4mg Arrow granulés pour son bébé de 5 mois, elle demande si cette forme est adaptée alors que son bébé ne mange pas encore solide ?   \n",
       "\n",
       "    intention  \n",
       "3          44  \n",
       "5          44  \n",
       "15         44  \n",
       "25         44  \n",
       "30         44  "
      ]
     },
     "execution_count": 40,
     "metadata": {},
     "output_type": "execute_result"
    }
   ],
   "source": [
    "XYTrain[XYTrain.intention == 44].head(5)"
   ]
  },
  {
   "cell_type": "markdown",
   "metadata": {},
   "source": [
    "#### multi-intent class\n",
    "notice that the text contains in general multiple questions: count on nquestion marks may be a good candidate to identify this class"
   ]
  },
  {
   "cell_type": "code",
   "execution_count": 41,
   "metadata": {},
   "outputs": [
    {
     "data": {
      "text/html": [
       "<div>\n",
       "<style scoped>\n",
       "    .dataframe tbody tr th:only-of-type {\n",
       "        vertical-align: middle;\n",
       "    }\n",
       "\n",
       "    .dataframe tbody tr th {\n",
       "        vertical-align: top;\n",
       "    }\n",
       "\n",
       "    .dataframe thead th {\n",
       "        text-align: right;\n",
       "    }\n",
       "</style>\n",
       "<table border=\"1\" class=\"dataframe\">\n",
       "  <thead>\n",
       "    <tr style=\"text-align: right;\">\n",
       "      <th></th>\n",
       "      <th>ID</th>\n",
       "      <th>question</th>\n",
       "      <th>intention</th>\n",
       "    </tr>\n",
       "  </thead>\n",
       "  <tbody>\n",
       "    <tr>\n",
       "      <th>208</th>\n",
       "      <td>208</td>\n",
       "      <td>on m'a prescrit microval, est ce que cette pilule est effective dès la première prise ? qu'est ce que cela fait si je commence la plaquette alors que je n'ai pas encore mes regles ?</td>\n",
       "      <td>39</td>\n",
       "    </tr>\n",
       "    <tr>\n",
       "      <th>266</th>\n",
       "      <td>266</td>\n",
       "      <td>mon medecin m'a prescrit du xanax 0,50 et du stilnox. cependant j'ai l'impression que le stilnox (generique) commence a ne plus me faire effet. faudrait t'il que je lui demande plutot de l'imovane et quels sont les effets secondaires?</td>\n",
       "      <td>39</td>\n",
       "    </tr>\n",
       "    <tr>\n",
       "      <th>386</th>\n",
       "      <td>386</td>\n",
       "      <td>PAS DE QUESTION SUR UN MEDICAMENT</td>\n",
       "      <td>39</td>\n",
       "    </tr>\n",
       "    <tr>\n",
       "      <th>542</th>\n",
       "      <td>542</td>\n",
       "      <td>samedi soir, j'ai oublié de prendre mon 17è comprimé et l'ai pris le lendemain mais pense l'avoir vomi. 4 jours avant l'oubli de ma pilule, j'ai eu un rapport non protégé : ai-je un risque de grossesse dû à ce rapport ? ma plaquette se finit dans 3 jours : au démarrage de la prochaine, puis-je recommencer à avoir des rapports non protégés?</td>\n",
       "      <td>39</td>\n",
       "    </tr>\n",
       "    <tr>\n",
       "      <th>661</th>\n",
       "      <td>661</td>\n",
       "      <td>j'ai arrêté mon traitement de dépamide il y a un mois et demi et malgré le sport et un régime sévère, je ne vois pas de changement sur ma balance.. est ce que certaines parmi vous ont eu ce pb ? combien de temps vous a-t-il fallu pour retrouver votre poids normal??</td>\n",
       "      <td>39</td>\n",
       "    </tr>\n",
       "  </tbody>\n",
       "</table>\n",
       "</div>"
      ],
      "text/plain": [
       "      ID  \\\n",
       "208  208   \n",
       "266  266   \n",
       "386  386   \n",
       "542  542   \n",
       "661  661   \n",
       "\n",
       "                                                                                                                                                                                                                                                                                                                                                  question  \\\n",
       "208                                                                                                                                                                  on m'a prescrit microval, est ce que cette pilule est effective dès la première prise ? qu'est ce que cela fait si je commence la plaquette alors que je n'ai pas encore mes regles ?   \n",
       "266                                                                                                             mon medecin m'a prescrit du xanax 0,50 et du stilnox. cependant j'ai l'impression que le stilnox (generique) commence a ne plus me faire effet. faudrait t'il que je lui demande plutot de l'imovane et quels sont les effets secondaires?   \n",
       "386                                                                                                                                                                                                                                                                                                                      PAS DE QUESTION SUR UN MEDICAMENT   \n",
       "542  samedi soir, j'ai oublié de prendre mon 17è comprimé et l'ai pris le lendemain mais pense l'avoir vomi. 4 jours avant l'oubli de ma pilule, j'ai eu un rapport non protégé : ai-je un risque de grossesse dû à ce rapport ? ma plaquette se finit dans 3 jours : au démarrage de la prochaine, puis-je recommencer à avoir des rapports non protégés?   \n",
       "661                                                                              j'ai arrêté mon traitement de dépamide il y a un mois et demi et malgré le sport et un régime sévère, je ne vois pas de changement sur ma balance.. est ce que certaines parmi vous ont eu ce pb ? combien de temps vous a-t-il fallu pour retrouver votre poids normal??   \n",
       "\n",
       "     intention  \n",
       "208         39  \n",
       "266         39  \n",
       "386         39  \n",
       "542         39  \n",
       "661         39  "
      ]
     },
     "execution_count": 41,
     "metadata": {},
     "output_type": "execute_result"
    }
   ],
   "source": [
    "\n",
    "XYTrain[XYTrain.intention == 39].head(5)"
   ]
  },
  {
   "cell_type": "markdown",
   "metadata": {},
   "source": [
    "#### unidentified questions"
   ]
  },
  {
   "cell_type": "code",
   "execution_count": 42,
   "metadata": {},
   "outputs": [
    {
     "data": {
      "text/html": [
       "<div>\n",
       "<style scoped>\n",
       "    .dataframe tbody tr th:only-of-type {\n",
       "        vertical-align: middle;\n",
       "    }\n",
       "\n",
       "    .dataframe tbody tr th {\n",
       "        vertical-align: top;\n",
       "    }\n",
       "\n",
       "    .dataframe thead th {\n",
       "        text-align: right;\n",
       "    }\n",
       "</style>\n",
       "<table border=\"1\" class=\"dataframe\">\n",
       "  <thead>\n",
       "    <tr style=\"text-align: right;\">\n",
       "      <th></th>\n",
       "      <th>ID</th>\n",
       "      <th>question</th>\n",
       "      <th>intention</th>\n",
       "    </tr>\n",
       "  </thead>\n",
       "  <tbody>\n",
       "    <tr>\n",
       "      <th>137</th>\n",
       "      <td>137</td>\n",
       "      <td>Quels sont les signes de surdosage en Mysoline?</td>\n",
       "      <td>1</td>\n",
       "    </tr>\n",
       "    <tr>\n",
       "      <th>179</th>\n",
       "      <td>179</td>\n",
       "      <td>Comparaison Relpax / Imigrane</td>\n",
       "      <td>1</td>\n",
       "    </tr>\n",
       "    <tr>\n",
       "      <th>391</th>\n",
       "      <td>391</td>\n",
       "      <td>le stablon serait-il un placebo?</td>\n",
       "      <td>1</td>\n",
       "    </tr>\n",
       "    <tr>\n",
       "      <th>845</th>\n",
       "      <td>845</td>\n",
       "      <td>Qu'est-ce que le calcibronate ?</td>\n",
       "      <td>1</td>\n",
       "    </tr>\n",
       "    <tr>\n",
       "      <th>1882</th>\n",
       "      <td>1882</td>\n",
       "      <td>Quelle forme galénique de traitement anti mycose est le mieux toléré par les muqueuses ?</td>\n",
       "      <td>1</td>\n",
       "    </tr>\n",
       "  </tbody>\n",
       "</table>\n",
       "</div>"
      ],
      "text/plain": [
       "        ID  \\\n",
       "137    137   \n",
       "179    179   \n",
       "391    391   \n",
       "845    845   \n",
       "1882  1882   \n",
       "\n",
       "                                                                                      question  \\\n",
       "137                                            Quels sont les signes de surdosage en Mysoline?   \n",
       "179                                                              Comparaison Relpax / Imigrane   \n",
       "391                                                           le stablon serait-il un placebo?   \n",
       "845                                                            Qu'est-ce que le calcibronate ?   \n",
       "1882  Quelle forme galénique de traitement anti mycose est le mieux toléré par les muqueuses ?   \n",
       "\n",
       "      intention  \n",
       "137           1  \n",
       "179           1  \n",
       "391           1  \n",
       "845           1  \n",
       "1882          1  "
      ]
     },
     "execution_count": 42,
     "metadata": {},
     "output_type": "execute_result"
    }
   ],
   "source": [
    "XYTrain[XYTrain.intention == 1].head(5)"
   ]
  },
  {
   "cell_type": "markdown",
   "metadata": {},
   "source": [
    "### Automatic Semantic Guess with NMF (Non Negative Factorization) Extraction\n",
    "There's an unsupervised technique to extract the topic from text corpus: NMF and LDA (Latent Dirichlet Allocation)"
   ]
  },
  {
   "cell_type": "code",
   "execution_count": 43,
   "metadata": {},
   "outputs": [],
   "source": [
    "def printTopWords(model, feature_names, n_top_words, max_topics):\n",
    "    for topicId, topic in enumerate(model.components_):\n",
    "        if topicId > max_topics:\n",
    "            return\n",
    "        message = \"Topic #%d: \" % topicId\n",
    "        message += \" \".join([feature_names[i]\n",
    "                             for i in topic.argsort()[:-n_top_words - 1:-1]])\n",
    "        print(message)\n",
    "    print()"
   ]
  },
  {
   "cell_type": "code",
   "execution_count": 44,
   "metadata": {},
   "outputs": [
    {
     "name": "stdout",
     "output_type": "stream",
     "text": [
      "[nltk_data] Downloading package stopwords to\n",
      "[nltk_data]     C:\\Users\\Jacques\\AppData\\Roaming\\nltk_data...\n",
      "[nltk_data]   Package stopwords is already up-to-date!\n"
     ]
    }
   ],
   "source": [
    "from sklearn.feature_extraction.text import TfidfVectorizer, CountVectorizer\n",
    "from sklearn.decomposition import NMF, LatentDirichletAllocation\n",
    "import sys\n",
    "sys.path.append('..')\n",
    "from utils import textcleaner\n",
    "import nltk\n",
    "from nltk.corpus import stopwords\n",
    "nltk.download('stopwords')\n",
    "\n",
    "frenchStopWords = set(stopwords.words(\"french\"))\n",
    "\n",
    "XTrainAndTest = pd.concat([XTrain, XTest])\n",
    "XTrainAndTest.question = XTrainAndTest.question.apply(lambda text : textcleaner.cleanText(text, cleanStopWords = frenchStopWords, useStemming=True))\n",
    "\n",
    "tfidfVectorizer = TfidfVectorizer(\n",
    "    max_features=10000)\n",
    "\n",
    "tfidf = tfidfVectorizer.fit_transform(XTrainAndTest['question'])\n",
    "\n",
    "nmfExtractor = NMF(\n",
    "    n_components=51,\n",
    "    random_state=1,alpha=.1, l1_ratio=.5)\n",
    "\n",
    "nmf = nmfExtractor.fit(tfidf)"
   ]
  },
  {
   "cell_type": "code",
   "execution_count": 45,
   "metadata": {},
   "outputs": [
    {
     "name": "stdout",
     "output_type": "stream",
     "text": [
      "Topic #0: depuis prend plus semain ça an normal quelqu mal cel tout pens problem peu ca arriv ventr tres cet comm douleur bonjour saign merc pert\n",
      "Topic #1: secondair effet infanrixquint tolexin zoloft influenzinum microval don trinordiol rotarix prescr lexomil citalopram gripp beaucoup abilify laroxyl zyprex dostinex foliqu lutéran lutenyl tamik minidril dompéridon\n",
      "Topic #2: quel dosag dos posolog médic thérapeut altern indiqu maximal form leponex vitamin moment action class util recommand cas différent appartient rivotril arnic prix effet enfant\n",
      "Topic #3: grossess pend possibl levothyrox prescrir dur champix aerius dang flagyl test autoris ginkor essentiel début compatibl vogalen subutex lysopain azithromycin depakot semain efferalgan primperan danger\n",
      "Topic #4: vaccin gripp hépatit dtp varicel ror gardasil exist rappel fievr inject hepatit tétanos polio col méningit contr apres an réaction jaun utérus dt où fil\n",
      "Topic #5: combien temp bout efficac effet faut dur attendr agir met agit apres fass mem xenical fait granul sertralin lumali norlevo apre pend conserv durent sang\n"
     ]
    }
   ],
   "source": [
    "tfidfFeatureNames = tfidfVectorizer.get_feature_names()\n",
    "printTopWords(nmf, tfidfFeatureNames, n_top_words=25, max_topics=5)"
   ]
  },
  {
   "cell_type": "markdown",
   "metadata": {},
   "source": [
    "* Topic 1 is related to adverse effect of drug\n",
    "* Topic 2 is related to pregnancy\n",
    "* Topic 3 is about drug effect duration\n",
    "\n",
    "The NMF seems to be quite efficient to extract the main topics"
   ]
  },
  {
   "cell_type": "code",
   "execution_count": 46,
   "metadata": {},
   "outputs": [],
   "source": [
    "# save the topics with their respective 40 first top words for future usage (feature engineering for classical technique)\n",
    "n_top_words = 50\n",
    "rows = []\n",
    "for topicId, topic in enumerate(nmf.components_):    \n",
    "    rows.append([topicId] + [tfidfFeatureNames[i] for i in topic.argsort()[:-n_top_words - 1:-1]])\n",
    "\n",
    "names = []\n",
    "names.append('topic_id')\n",
    "for idx in range(1,51):\n",
    "    names.append('top_word_' + str(idx))\n",
    "    \n",
    "pd.DataFrame(rows, columns = names).to_csv('../../data/staging_data/topic_top_words.csv', index = None)"
   ]
  },
  {
   "cell_type": "markdown",
   "metadata": {},
   "source": [
    "## Feature Space Distribution Visualization\n",
    "To have a rough estimate on the classification task difficulty, it's worth to visualize how the input features are distributed and how well labels are separable to each other.\n",
    "\n",
    "For that prupose, I simply vectorize the text with TF-IDF transformation and proceed with a dimension reduction into a 2-dimensional space which can be easily displayed: I utilize a linear (PCA) and (t-SNE) dimension reduction techniques. t-SNE algorithm has the downside to be extremely slow and practically speaking, not very convenient..."
   ]
  },
  {
   "cell_type": "code",
   "execution_count": 47,
   "metadata": {},
   "outputs": [
    {
     "name": "stdout",
     "output_type": "stream",
     "text": [
      "[nltk_data] Downloading package stopwords to\n",
      "[nltk_data]     C:\\Users\\Jacques\\AppData\\Roaming\\nltk_data...\n",
      "[nltk_data]   Package stopwords is already up-to-date!\n"
     ]
    },
    {
     "data": {
      "text/html": [
       "<div>\n",
       "<style scoped>\n",
       "    .dataframe tbody tr th:only-of-type {\n",
       "        vertical-align: middle;\n",
       "    }\n",
       "\n",
       "    .dataframe tbody tr th {\n",
       "        vertical-align: top;\n",
       "    }\n",
       "\n",
       "    .dataframe thead th {\n",
       "        text-align: right;\n",
       "    }\n",
       "</style>\n",
       "<table border=\"1\" class=\"dataframe\">\n",
       "  <thead>\n",
       "    <tr style=\"text-align: right;\">\n",
       "      <th></th>\n",
       "      <th>0</th>\n",
       "      <th>1</th>\n",
       "      <th>2</th>\n",
       "      <th>3</th>\n",
       "      <th>4</th>\n",
       "      <th>5</th>\n",
       "      <th>6</th>\n",
       "      <th>7</th>\n",
       "      <th>8</th>\n",
       "      <th>9</th>\n",
       "      <th>...</th>\n",
       "      <th>8996</th>\n",
       "      <th>8997</th>\n",
       "      <th>8998</th>\n",
       "      <th>8999</th>\n",
       "      <th>9000</th>\n",
       "      <th>9001</th>\n",
       "      <th>9002</th>\n",
       "      <th>9003</th>\n",
       "      <th>9004</th>\n",
       "      <th>9005</th>\n",
       "    </tr>\n",
       "  </thead>\n",
       "  <tbody>\n",
       "    <tr>\n",
       "      <th>0</th>\n",
       "      <td>0.0</td>\n",
       "      <td>0.0</td>\n",
       "      <td>0.0</td>\n",
       "      <td>0.0</td>\n",
       "      <td>0.0</td>\n",
       "      <td>0.0</td>\n",
       "      <td>0.0</td>\n",
       "      <td>0.0</td>\n",
       "      <td>0.0</td>\n",
       "      <td>0.0</td>\n",
       "      <td>...</td>\n",
       "      <td>0.0</td>\n",
       "      <td>0.0</td>\n",
       "      <td>0.0</td>\n",
       "      <td>0.0</td>\n",
       "      <td>0.0</td>\n",
       "      <td>0.0</td>\n",
       "      <td>0.0</td>\n",
       "      <td>0.0</td>\n",
       "      <td>0.0</td>\n",
       "      <td>0.0</td>\n",
       "    </tr>\n",
       "    <tr>\n",
       "      <th>1</th>\n",
       "      <td>0.0</td>\n",
       "      <td>0.0</td>\n",
       "      <td>0.0</td>\n",
       "      <td>0.0</td>\n",
       "      <td>0.0</td>\n",
       "      <td>0.0</td>\n",
       "      <td>0.0</td>\n",
       "      <td>0.0</td>\n",
       "      <td>0.0</td>\n",
       "      <td>0.0</td>\n",
       "      <td>...</td>\n",
       "      <td>0.0</td>\n",
       "      <td>0.0</td>\n",
       "      <td>0.0</td>\n",
       "      <td>0.0</td>\n",
       "      <td>0.0</td>\n",
       "      <td>0.0</td>\n",
       "      <td>0.0</td>\n",
       "      <td>0.0</td>\n",
       "      <td>0.0</td>\n",
       "      <td>0.0</td>\n",
       "    </tr>\n",
       "    <tr>\n",
       "      <th>2</th>\n",
       "      <td>0.0</td>\n",
       "      <td>0.0</td>\n",
       "      <td>0.0</td>\n",
       "      <td>0.0</td>\n",
       "      <td>0.0</td>\n",
       "      <td>0.0</td>\n",
       "      <td>0.0</td>\n",
       "      <td>0.0</td>\n",
       "      <td>0.0</td>\n",
       "      <td>0.0</td>\n",
       "      <td>...</td>\n",
       "      <td>0.0</td>\n",
       "      <td>0.0</td>\n",
       "      <td>0.0</td>\n",
       "      <td>0.0</td>\n",
       "      <td>0.0</td>\n",
       "      <td>0.0</td>\n",
       "      <td>0.0</td>\n",
       "      <td>0.0</td>\n",
       "      <td>0.0</td>\n",
       "      <td>0.0</td>\n",
       "    </tr>\n",
       "    <tr>\n",
       "      <th>3</th>\n",
       "      <td>0.0</td>\n",
       "      <td>0.0</td>\n",
       "      <td>0.0</td>\n",
       "      <td>0.0</td>\n",
       "      <td>0.0</td>\n",
       "      <td>0.0</td>\n",
       "      <td>0.0</td>\n",
       "      <td>0.0</td>\n",
       "      <td>0.0</td>\n",
       "      <td>0.0</td>\n",
       "      <td>...</td>\n",
       "      <td>0.0</td>\n",
       "      <td>0.0</td>\n",
       "      <td>0.0</td>\n",
       "      <td>0.0</td>\n",
       "      <td>0.0</td>\n",
       "      <td>0.0</td>\n",
       "      <td>0.0</td>\n",
       "      <td>0.0</td>\n",
       "      <td>0.0</td>\n",
       "      <td>0.0</td>\n",
       "    </tr>\n",
       "    <tr>\n",
       "      <th>4</th>\n",
       "      <td>0.0</td>\n",
       "      <td>0.0</td>\n",
       "      <td>0.0</td>\n",
       "      <td>0.0</td>\n",
       "      <td>0.0</td>\n",
       "      <td>0.0</td>\n",
       "      <td>0.0</td>\n",
       "      <td>0.0</td>\n",
       "      <td>0.0</td>\n",
       "      <td>0.0</td>\n",
       "      <td>...</td>\n",
       "      <td>0.0</td>\n",
       "      <td>0.0</td>\n",
       "      <td>0.0</td>\n",
       "      <td>0.0</td>\n",
       "      <td>0.0</td>\n",
       "      <td>0.0</td>\n",
       "      <td>0.0</td>\n",
       "      <td>0.0</td>\n",
       "      <td>0.0</td>\n",
       "      <td>0.0</td>\n",
       "    </tr>\n",
       "  </tbody>\n",
       "</table>\n",
       "<p>5 rows × 9006 columns</p>\n",
       "</div>"
      ],
      "text/plain": [
       "   0     1     2     3     4     5     6     7     8     9     ...   8996  \\\n",
       "0   0.0   0.0   0.0   0.0   0.0   0.0   0.0   0.0   0.0   0.0  ...    0.0   \n",
       "1   0.0   0.0   0.0   0.0   0.0   0.0   0.0   0.0   0.0   0.0  ...    0.0   \n",
       "2   0.0   0.0   0.0   0.0   0.0   0.0   0.0   0.0   0.0   0.0  ...    0.0   \n",
       "3   0.0   0.0   0.0   0.0   0.0   0.0   0.0   0.0   0.0   0.0  ...    0.0   \n",
       "4   0.0   0.0   0.0   0.0   0.0   0.0   0.0   0.0   0.0   0.0  ...    0.0   \n",
       "\n",
       "   8997  8998  8999  9000  9001  9002  9003  9004  9005  \n",
       "0   0.0   0.0   0.0   0.0   0.0   0.0   0.0   0.0   0.0  \n",
       "1   0.0   0.0   0.0   0.0   0.0   0.0   0.0   0.0   0.0  \n",
       "2   0.0   0.0   0.0   0.0   0.0   0.0   0.0   0.0   0.0  \n",
       "3   0.0   0.0   0.0   0.0   0.0   0.0   0.0   0.0   0.0  \n",
       "4   0.0   0.0   0.0   0.0   0.0   0.0   0.0   0.0   0.0  \n",
       "\n",
       "[5 rows x 9006 columns]"
      ]
     },
     "execution_count": 47,
     "metadata": {},
     "output_type": "execute_result"
    }
   ],
   "source": [
    "from sklearn.feature_extraction.text import TfidfVectorizer\n",
    "import nltk\n",
    "\n",
    "from nltk.corpus import stopwords\n",
    "nltk.download('stopwords')\n",
    "\n",
    "vectorizer = TfidfVectorizer(strip_accents='ascii', stop_words=stopwords.words('french'))\n",
    "\n",
    "XTFIDFVectorizedTrain = vectorizer.fit_transform(XTrain['question'])\n",
    "XTFIDFVectorizedTrain = pd.DataFrame(XTFIDFVectorizedTrain.toarray())\n",
    "XTFIDFVectorizedTrain.head()"
   ]
  },
  {
   "cell_type": "code",
   "execution_count": 48,
   "metadata": {},
   "outputs": [],
   "source": [
    "import numpy as np\n",
    "from sklearn.decomposition import IncrementalPCA\n",
    "\n",
    "ipca = IncrementalPCA(n_components=2, batch_size=3)\n",
    "PCATrain = pd.DataFrame(ipca.fit_transform(XTFIDFVectorizedTrain))"
   ]
  },
  {
   "cell_type": "code",
   "execution_count": 49,
   "metadata": {},
   "outputs": [],
   "source": [
    "from sklearn.manifold import TSNE\n",
    "\n",
    "#tsne = TSNE(n_components=2)\n",
    "#TSNETrain =  pd.DataFrame(tsne.fit_transform(XTFIDFVectorizedTrain))"
   ]
  },
  {
   "cell_type": "code",
   "execution_count": 50,
   "metadata": {},
   "outputs": [
    {
     "data": {
      "image/png": "[encoded data removed]",
      "text/plain": [
       "<Figure size 720x720 with 1 Axes>"
      ]
     },
     "metadata": {},
     "output_type": "display_data"
    }
   ],
   "source": [
    "%matplotlib inline\n",
    "\n",
    "import matplotlib.pyplot as plt\n",
    "import matplotlib.cm as cm\n",
    "\n",
    "fig = plt.figure(figsize=(10,10))\n",
    "fig.suptitle(\"Input Feature 2-D Distribution with PCA\")\n",
    "plt.scatter(PCATrain[0], PCATrain[1], c=YTrain['intention'], cmap=cm.seismic_r)\n",
    "plt.show()"
   ]
  },
  {
   "cell_type": "code",
   "execution_count": 51,
   "metadata": {},
   "outputs": [
    {
     "ename": "NameError",
     "evalue": "name 'TSNETrain' is not defined",
     "output_type": "error",
     "traceback": [
      "\u001b[1;31m---------------------------------------------------------------------------\u001b[0m",
      "\u001b[1;31mNameError\u001b[0m                                 Traceback (most recent call last)",
      "\u001b[1;32m<ipython-input-51-854a418b6b88>\u001b[0m in \u001b[0;36m<module>\u001b[1;34m()\u001b[0m\n\u001b[0;32m      1\u001b[0m \u001b[0mfig\u001b[0m \u001b[1;33m=\u001b[0m \u001b[0mplt\u001b[0m\u001b[1;33m.\u001b[0m\u001b[0mfigure\u001b[0m\u001b[1;33m(\u001b[0m\u001b[0mfigsize\u001b[0m\u001b[1;33m=\u001b[0m\u001b[1;33m(\u001b[0m\u001b[1;36m10\u001b[0m\u001b[1;33m,\u001b[0m\u001b[1;36m10\u001b[0m\u001b[1;33m)\u001b[0m\u001b[1;33m)\u001b[0m\u001b[1;33m\u001b[0m\u001b[0m\n\u001b[0;32m      2\u001b[0m \u001b[0mfig\u001b[0m\u001b[1;33m.\u001b[0m\u001b[0msuptitle\u001b[0m\u001b[1;33m(\u001b[0m\u001b[1;34m\"Input Feature 2-D Distribution with t-SNE\"\u001b[0m\u001b[1;33m)\u001b[0m\u001b[1;33m\u001b[0m\u001b[0m\n\u001b[1;32m----> 3\u001b[1;33m \u001b[0mplt\u001b[0m\u001b[1;33m.\u001b[0m\u001b[0mscatter\u001b[0m\u001b[1;33m(\u001b[0m\u001b[0mTSNETrain\u001b[0m\u001b[1;33m[\u001b[0m\u001b[1;36m0\u001b[0m\u001b[1;33m]\u001b[0m\u001b[1;33m,\u001b[0m \u001b[0mTSNETrain\u001b[0m\u001b[1;33m[\u001b[0m\u001b[1;36m1\u001b[0m\u001b[1;33m]\u001b[0m\u001b[1;33m,\u001b[0m \u001b[0mc\u001b[0m\u001b[1;33m=\u001b[0m\u001b[0mYTrain\u001b[0m\u001b[1;33m[\u001b[0m\u001b[1;34m'intention'\u001b[0m\u001b[1;33m]\u001b[0m\u001b[1;33m,\u001b[0m \u001b[0mcmap\u001b[0m\u001b[1;33m=\u001b[0m\u001b[0mcm\u001b[0m\u001b[1;33m.\u001b[0m\u001b[0mseismic_r\u001b[0m\u001b[1;33m)\u001b[0m\u001b[1;33m\u001b[0m\u001b[0m\n\u001b[0m\u001b[0;32m      4\u001b[0m \u001b[0mplt\u001b[0m\u001b[1;33m.\u001b[0m\u001b[0mshow\u001b[0m\u001b[1;33m(\u001b[0m\u001b[1;33m)\u001b[0m\u001b[1;33m\u001b[0m\u001b[0m\n",
      "\u001b[1;31mNameError\u001b[0m: name 'TSNETrain' is not defined"
     ]
    },
    {
     "data": {
      "text/plain": [
       "<Figure size 720x720 with 0 Axes>"
      ]
     },
     "metadata": {},
     "output_type": "display_data"
    }
   ],
   "source": [
    "fig = plt.figure(figsize=(10,10))\n",
    "fig.suptitle(\"Input Feature 2-D Distribution with t-SNE\")\n",
    "plt.scatter(TSNETrain[0], TSNETrain[1], c=YTrain['intention'], cmap=cm.seismic_r)\n",
    "plt.show()"
   ]
  },
  {
   "cell_type": "markdown",
   "metadata": {},
   "source": [
    "We can observe that learning on raw training dataset without any feature engineering would probably lead to very poor accuracy. Raw features should be preprocessed to make appear some salient calculated features improving the classifier efficiency."
   ]
  },
  {
   "cell_type": "markdown",
   "metadata": {},
   "source": [
    "## Text Structure Analysis\n",
    "I focus now on how the texts are shaped from a syntactical/lexical standpoint."
   ]
  },
  {
   "cell_type": "markdown",
   "metadata": {},
   "source": [
    "### Basic Stastistics"
   ]
  },
  {
   "cell_type": "code",
   "execution_count": 52,
   "metadata": {},
   "outputs": [],
   "source": [
    "from keras.preprocessing.text import Tokenizer\n",
    "import pandas as pd\n",
    "\n",
    "XTrain = pd.read_csv('../../data/staging_data/stopwords_clean_input_train.csv', sep=';')\n",
    "\n",
    "tokenizer = Tokenizer(num_words= 10000)\n",
    "tokenizer.fit_on_texts(XTrain['question'])\n",
    "wordFreqs = tokenizer.word_counts"
   ]
  },
  {
   "cell_type": "code",
   "execution_count": 53,
   "metadata": {},
   "outputs": [
    {
     "data": {
      "text/plain": [
       "count    8028.000000\n",
       "mean       69.238540\n",
       "std        89.399312\n",
       "min         4.000000\n",
       "25%        28.000000\n",
       "50%        42.000000\n",
       "75%        80.000000\n",
       "max      2744.000000\n",
       "Name: text length, dtype: float64"
      ]
     },
     "execution_count": 53,
     "metadata": {},
     "output_type": "execute_result"
    }
   ],
   "source": [
    "XTrain['text length']  = XTrain['question'].map(lambda x: len(x))\n",
    "XTrain['text length'].describe()"
   ]
  },
  {
   "cell_type": "code",
   "execution_count": 54,
   "metadata": {},
   "outputs": [
    {
     "data": {
      "text/plain": [
       "count    8028.000000\n",
       "mean        9.854758\n",
       "std        13.273684\n",
       "min         1.000000\n",
       "25%         4.000000\n",
       "50%         6.000000\n",
       "75%        11.000000\n",
       "max       408.000000\n",
       "Name: word count, dtype: float64"
      ]
     },
     "execution_count": 54,
     "metadata": {},
     "output_type": "execute_result"
    }
   ],
   "source": [
    "from nltk.tokenize import word_tokenize\n",
    "def getWordCount(word):\n",
    "    return len(word_tokenize(word, language='french'))\n",
    "    \n",
    "XTrain['word count']  = XTrain['question'].map(lambda x: getWordCount(x))\n",
    "XTrain['word count'].describe()"
   ]
  },
  {
   "cell_type": "code",
   "execution_count": 55,
   "metadata": {},
   "outputs": [
    {
     "data": {
      "text/plain": [
       "<matplotlib.axes._subplots.AxesSubplot at 0x16207713cf8>"
      ]
     },
     "execution_count": 55,
     "metadata": {},
     "output_type": "execute_result"
    },
    {
     "data": {
      "image/png": "[encoded data removed]",
      "text/plain": [
       "<Figure size 432x288 with 1 Axes>"
      ]
     },
     "metadata": {},
     "output_type": "display_data"
    }
   ],
   "source": [
    "XTrain['word count'].hist(bins=20)"
   ]
  },
  {
   "cell_type": "markdown",
   "metadata": {},
   "source": [
    "Word count is in general low with median and mean equal to ~ 5 words: the question is formulated very concisely !"
   ]
  },
  {
   "cell_type": "code",
   "execution_count": 56,
   "metadata": {},
   "outputs": [
    {
     "data": {
      "text/html": [
       "<div>\n",
       "<style scoped>\n",
       "    .dataframe tbody tr th:only-of-type {\n",
       "        vertical-align: middle;\n",
       "    }\n",
       "\n",
       "    .dataframe tbody tr th {\n",
       "        vertical-align: top;\n",
       "    }\n",
       "\n",
       "    .dataframe thead th {\n",
       "        text-align: right;\n",
       "    }\n",
       "</style>\n",
       "<table border=\"1\" class=\"dataframe\">\n",
       "  <thead>\n",
       "    <tr style=\"text-align: right;\">\n",
       "      <th></th>\n",
       "      <th>word frequency</th>\n",
       "    </tr>\n",
       "  </thead>\n",
       "  <tbody>\n",
       "    <tr>\n",
       "      <th>count</th>\n",
       "      <td>9378.000000</td>\n",
       "    </tr>\n",
       "    <tr>\n",
       "      <th>mean</th>\n",
       "      <td>8.421305</td>\n",
       "    </tr>\n",
       "    <tr>\n",
       "      <th>std</th>\n",
       "      <td>42.488629</td>\n",
       "    </tr>\n",
       "    <tr>\n",
       "      <th>min</th>\n",
       "      <td>1.000000</td>\n",
       "    </tr>\n",
       "    <tr>\n",
       "      <th>25%</th>\n",
       "      <td>1.000000</td>\n",
       "    </tr>\n",
       "    <tr>\n",
       "      <th>50%</th>\n",
       "      <td>2.000000</td>\n",
       "    </tr>\n",
       "    <tr>\n",
       "      <th>75%</th>\n",
       "      <td>4.000000</td>\n",
       "    </tr>\n",
       "    <tr>\n",
       "      <th>max</th>\n",
       "      <td>1993.000000</td>\n",
       "    </tr>\n",
       "  </tbody>\n",
       "</table>\n",
       "</div>"
      ],
      "text/plain": [
       "       word frequency\n",
       "count     9378.000000\n",
       "mean         8.421305\n",
       "std         42.488629\n",
       "min          1.000000\n",
       "25%          1.000000\n",
       "50%          2.000000\n",
       "75%          4.000000\n",
       "max       1993.000000"
      ]
     },
     "execution_count": 56,
     "metadata": {},
     "output_type": "execute_result"
    }
   ],
   "source": [
    "df = pd.DataFrame.from_dict(wordFreqs,orient='index', columns=['word frequency'])\n",
    "df.sort_values(['word frequency'], ascending=False, inplace=True)\n",
    "df.describe()"
   ]
  },
  {
   "cell_type": "code",
   "execution_count": 57,
   "metadata": {},
   "outputs": [
    {
     "data": {
      "text/html": [
       "<div>\n",
       "<style scoped>\n",
       "    .dataframe tbody tr th:only-of-type {\n",
       "        vertical-align: middle;\n",
       "    }\n",
       "\n",
       "    .dataframe tbody tr th {\n",
       "        vertical-align: top;\n",
       "    }\n",
       "\n",
       "    .dataframe thead th {\n",
       "        text-align: right;\n",
       "    }\n",
       "</style>\n",
       "<table border=\"1\" class=\"dataframe\">\n",
       "  <thead>\n",
       "    <tr style=\"text-align: right;\">\n",
       "      <th></th>\n",
       "      <th>word frequency</th>\n",
       "    </tr>\n",
       "  </thead>\n",
       "  <tbody>\n",
       "    <tr>\n",
       "      <th>a</th>\n",
       "      <td>1993</td>\n",
       "    </tr>\n",
       "    <tr>\n",
       "      <th>les</th>\n",
       "      <td>1389</td>\n",
       "    </tr>\n",
       "    <tr>\n",
       "      <th>si</th>\n",
       "      <td>827</td>\n",
       "    </tr>\n",
       "    <tr>\n",
       "      <th>depuis</th>\n",
       "      <td>780</td>\n",
       "    </tr>\n",
       "    <tr>\n",
       "      <th>peut</th>\n",
       "      <td>779</td>\n",
       "    </tr>\n",
       "    <tr>\n",
       "      <th>prendre</th>\n",
       "      <td>771</td>\n",
       "    </tr>\n",
       "    <tr>\n",
       "      <th>pilule</th>\n",
       "      <td>751</td>\n",
       "    </tr>\n",
       "    <tr>\n",
       "      <th>jours</th>\n",
       "      <td>593</td>\n",
       "    </tr>\n",
       "    <tr>\n",
       "      <th>plus</th>\n",
       "      <td>557</td>\n",
       "    </tr>\n",
       "    <tr>\n",
       "      <th>effets</th>\n",
       "      <td>554</td>\n",
       "    </tr>\n",
       "    <tr>\n",
       "      <th>faire</th>\n",
       "      <td>546</td>\n",
       "    </tr>\n",
       "    <tr>\n",
       "      <th>mois</th>\n",
       "      <td>529</td>\n",
       "    </tr>\n",
       "    <tr>\n",
       "      <th>sous</th>\n",
       "      <td>501</td>\n",
       "    </tr>\n",
       "    <tr>\n",
       "      <th>fait</th>\n",
       "      <td>470</td>\n",
       "    </tr>\n",
       "    <tr>\n",
       "      <th>savoir</th>\n",
       "      <td>468</td>\n",
       "    </tr>\n",
       "    <tr>\n",
       "      <th>mg</th>\n",
       "      <td>443</td>\n",
       "    </tr>\n",
       "    <tr>\n",
       "      <th>prends</th>\n",
       "      <td>431</td>\n",
       "    </tr>\n",
       "    <tr>\n",
       "      <th>temps</th>\n",
       "      <td>386</td>\n",
       "    </tr>\n",
       "    <tr>\n",
       "      <th>pris</th>\n",
       "      <td>380</td>\n",
       "    </tr>\n",
       "    <tr>\n",
       "      <th>vaccin</th>\n",
       "      <td>379</td>\n",
       "    </tr>\n",
       "  </tbody>\n",
       "</table>\n",
       "</div>"
      ],
      "text/plain": [
       "         word frequency\n",
       "a                  1993\n",
       "les                1389\n",
       "si                  827\n",
       "depuis              780\n",
       "peut                779\n",
       "prendre             771\n",
       "pilule              751\n",
       "jours               593\n",
       "plus                557\n",
       "effets              554\n",
       "faire               546\n",
       "mois                529\n",
       "sous                501\n",
       "fait                470\n",
       "savoir              468\n",
       "mg                  443\n",
       "prends              431\n",
       "temps               386\n",
       "pris                380\n",
       "vaccin              379"
      ]
     },
     "execution_count": 57,
     "metadata": {},
     "output_type": "execute_result"
    }
   ],
   "source": [
    "# most frequent words\n",
    "df.head(20)"
   ]
  },
  {
   "cell_type": "markdown",
   "metadata": {},
   "source": [
    "As expected, most frequent words are common vocabulary and usually don't refer specifically to medical domain,except for 'pilule', 'vaccin' and 'grossesse' words.\n",
    "\n",
    "A noticeable point is the presence of many morphological variants of the root word 'prendre'.\n",
    "\n",
    "Another interesting information is a certain predominance of term related to time concept ('depuis', 'temps', 'jours', 'mois', ...). Recognizing time named entity may be worth to improve the classifier."
   ]
  },
  {
   "cell_type": "markdown",
   "metadata": {},
   "source": [
    "### average number of misspelled words, active ingredient and drug names per document"
   ]
  },
  {
   "cell_type": "code",
   "execution_count": 58,
   "metadata": {},
   "outputs": [
    {
     "name": "stdout",
     "output_type": "stream",
     "text": [
      "The autoreload extension is already loaded. To reload it, use:\n",
      "  %reload_ext autoreload\n"
     ]
    },
    {
     "data": {
      "text/html": [
       "<div>\n",
       "<style scoped>\n",
       "    .dataframe tbody tr th:only-of-type {\n",
       "        vertical-align: middle;\n",
       "    }\n",
       "\n",
       "    .dataframe tbody tr th {\n",
       "        vertical-align: top;\n",
       "    }\n",
       "\n",
       "    .dataframe thead th {\n",
       "        text-align: right;\n",
       "    }\n",
       "</style>\n",
       "<table border=\"1\" class=\"dataframe\">\n",
       "  <thead>\n",
       "    <tr style=\"text-align: right;\">\n",
       "      <th></th>\n",
       "      <th>ID</th>\n",
       "      <th>question</th>\n",
       "      <th>text length</th>\n",
       "      <th>word count</th>\n",
       "      <th>drug name count</th>\n",
       "      <th>active ingredient count</th>\n",
       "      <th>misspelling count</th>\n",
       "    </tr>\n",
       "  </thead>\n",
       "  <tbody>\n",
       "    <tr>\n",
       "      <th>0</th>\n",
       "      <td>0</td>\n",
       "      <td>bonjour trompé forum question alors repose ici pris première fois hier paroxétine matin catastrophe picotement dasn tous corps annonciateur sueur froide très très massive vomissement deux crises depuis heure mat cela semble passer mains reste moites chaude estce normal première fois merci a tous</td>\n",
       "      <td>296</td>\n",
       "      <td>44</td>\n",
       "      <td>0</td>\n",
       "      <td>1</td>\n",
       "      <td>5</td>\n",
       "    </tr>\n",
       "    <tr>\n",
       "      <th>1</th>\n",
       "      <td>1</td>\n",
       "      <td>motilium soulagera contre les nausées</td>\n",
       "      <td>37</td>\n",
       "      <td>5</td>\n",
       "      <td>1</td>\n",
       "      <td>0</td>\n",
       "      <td>0</td>\n",
       "    </tr>\n",
       "    <tr>\n",
       "      <th>2</th>\n",
       "      <td>2</td>\n",
       "      <td>médecin a prescrit adenyl ème cachet maux tête terribles ème palpitations sueurs froides chaleur intense tête tremblements fourmillements lèvre supérieure difficultés respirer dès arrêt médicament tous les symptômes disparu cela déjà arrivé quelque</td>\n",
       "      <td>248</td>\n",
       "      <td>33</td>\n",
       "      <td>1</td>\n",
       "      <td>0</td>\n",
       "      <td>1</td>\n",
       "    </tr>\n",
       "    <tr>\n",
       "      <th>3</th>\n",
       "      <td>3</td>\n",
       "      <td>existe forme adaptée enfant ans micropakine</td>\n",
       "      <td>43</td>\n",
       "      <td>6</td>\n",
       "      <td>1</td>\n",
       "      <td>0</td>\n",
       "      <td>0</td>\n",
       "    </tr>\n",
       "    <tr>\n",
       "      <th>4</th>\n",
       "      <td>4</td>\n",
       "      <td>medecin soigne rhino pharingite a prescrit amoxicilline comme anti biotique vraiment cette indication</td>\n",
       "      <td>101</td>\n",
       "      <td>13</td>\n",
       "      <td>1</td>\n",
       "      <td>1</td>\n",
       "      <td>3</td>\n",
       "    </tr>\n",
       "  </tbody>\n",
       "</table>\n",
       "</div>"
      ],
      "text/plain": [
       "   ID  \\\n",
       "0   0   \n",
       "1   1   \n",
       "2   2   \n",
       "3   3   \n",
       "4   4   \n",
       "\n",
       "                                                                                                                                                                                                                                                                                                   question  \\\n",
       "0  bonjour trompé forum question alors repose ici pris première fois hier paroxétine matin catastrophe picotement dasn tous corps annonciateur sueur froide très très massive vomissement deux crises depuis heure mat cela semble passer mains reste moites chaude estce normal première fois merci a tous   \n",
       "1                                                                                                                                                                                                                                                                     motilium soulagera contre les nausées   \n",
       "2                                                  médecin a prescrit adenyl ème cachet maux tête terribles ème palpitations sueurs froides chaleur intense tête tremblements fourmillements lèvre supérieure difficultés respirer dès arrêt médicament tous les symptômes disparu cela déjà arrivé quelque   \n",
       "3                                                                                                                                                                                                                                                               existe forme adaptée enfant ans micropakine   \n",
       "4                                                                                                                                                                                                     medecin soigne rhino pharingite a prescrit amoxicilline comme anti biotique vraiment cette indication   \n",
       "\n",
       "   text length  word count  drug name count  active ingredient count  \\\n",
       "0          296          44                0                        1   \n",
       "1           37           5                1                        0   \n",
       "2          248          33                1                        0   \n",
       "3           43           6                1                        0   \n",
       "4          101          13                1                        1   \n",
       "\n",
       "   misspelling count  \n",
       "0                  5  \n",
       "1                  0  \n",
       "2                  1  \n",
       "3                  0  \n",
       "4                  3  "
      ]
     },
     "execution_count": 58,
     "metadata": {},
     "output_type": "execute_result"
    }
   ],
   "source": [
    "# we leverage upfront the misspelling correction in the text preprocessing phase to get a better counting\n",
    "%load_ext autoreload\n",
    "%autoreload 2\n",
    "import sys\n",
    "sys.path.append('..')\n",
    "from utils import serializer\n",
    "\n",
    "drugFixMap = serializer.loadFixMap('../../data/staging_data/mispelled_drug_names.csv')\n",
    "misspelledDrugNames = set(drugFixMap.keys())\n",
    "\n",
    "ingredientFixMap = serializer.loadFixMap('../../data/staging_data/mispelled_ingredient_names.csv')\n",
    "misspelledIngredients = set(drugFixMap.keys())\n",
    "\n",
    "frenchDict = serializer.loadWords('../../data/vocabulary/french_dictionary.txt')\n",
    "drugNames = serializer.loadWords('../../data/staging_data/drug_names.txt')\n",
    "drugNames = set(map(lambda x : x.lower(), drugNames))\n",
    "ingredientNames = serializer.loadWords('../../data/staging_data/ingredient_names.txt')\n",
    "ingredientNames = set(map(lambda x : x.lower(), ingredientNames))\n",
    "\n",
    "\n",
    "def getDrugNameCount(text):\n",
    "    words = set(text.split())\n",
    "    return len(words & misspelledDrugNames) + len(words & drugNames)\n",
    "\n",
    "def getIngredientCount(text):\n",
    "    words = set(text.split())\n",
    "    return len(words & misspelledIngredients) + len(words & ingredientNames)\n",
    "\n",
    "def getMisspellingCount(text):\n",
    "    words = set(text.split())\n",
    "    count = 0\n",
    "    for word in words:\n",
    "        if word in frenchDict or word in drugNames or word in ingredientNames:\n",
    "            continue\n",
    "        count = count + 1\n",
    "    return count\n",
    "\n",
    "XTrain['drug name count']  = XTrain['question'].map(lambda x: getDrugNameCount(x))\n",
    "XTrain['active ingredient count']  = XTrain['question'].map(lambda x: getIngredientCount(x))\n",
    "XTrain['misspelling count']  = XTrain['question'].map(lambda x: getMisspellingCount(x))\n",
    "\n",
    "XTrain.head(5)"
   ]
  },
  {
   "cell_type": "code",
   "execution_count": 59,
   "metadata": {},
   "outputs": [
    {
     "data": {
      "text/html": [
       "<div>\n",
       "<style scoped>\n",
       "    .dataframe tbody tr th:only-of-type {\n",
       "        vertical-align: middle;\n",
       "    }\n",
       "\n",
       "    .dataframe tbody tr th {\n",
       "        vertical-align: top;\n",
       "    }\n",
       "\n",
       "    .dataframe thead th {\n",
       "        text-align: right;\n",
       "    }\n",
       "</style>\n",
       "<table border=\"1\" class=\"dataframe\">\n",
       "  <thead>\n",
       "    <tr style=\"text-align: right;\">\n",
       "      <th></th>\n",
       "      <th>drug name count</th>\n",
       "      <th>active ingredient count</th>\n",
       "      <th>misspelling count</th>\n",
       "    </tr>\n",
       "  </thead>\n",
       "  <tbody>\n",
       "    <tr>\n",
       "      <th>count</th>\n",
       "      <td>8028.000000</td>\n",
       "      <td>8028.000000</td>\n",
       "      <td>8028.000000</td>\n",
       "    </tr>\n",
       "    <tr>\n",
       "      <th>mean</th>\n",
       "      <td>0.896487</td>\n",
       "      <td>0.229571</td>\n",
       "      <td>1.110737</td>\n",
       "    </tr>\n",
       "    <tr>\n",
       "      <th>std</th>\n",
       "      <td>0.663804</td>\n",
       "      <td>0.506578</td>\n",
       "      <td>1.777682</td>\n",
       "    </tr>\n",
       "    <tr>\n",
       "      <th>min</th>\n",
       "      <td>0.000000</td>\n",
       "      <td>0.000000</td>\n",
       "      <td>0.000000</td>\n",
       "    </tr>\n",
       "    <tr>\n",
       "      <th>25%</th>\n",
       "      <td>1.000000</td>\n",
       "      <td>0.000000</td>\n",
       "      <td>0.000000</td>\n",
       "    </tr>\n",
       "    <tr>\n",
       "      <th>50%</th>\n",
       "      <td>1.000000</td>\n",
       "      <td>0.000000</td>\n",
       "      <td>1.000000</td>\n",
       "    </tr>\n",
       "    <tr>\n",
       "      <th>75%</th>\n",
       "      <td>1.000000</td>\n",
       "      <td>0.000000</td>\n",
       "      <td>1.000000</td>\n",
       "    </tr>\n",
       "    <tr>\n",
       "      <th>max</th>\n",
       "      <td>10.000000</td>\n",
       "      <td>6.000000</td>\n",
       "      <td>27.000000</td>\n",
       "    </tr>\n",
       "  </tbody>\n",
       "</table>\n",
       "</div>"
      ],
      "text/plain": [
       "       drug name count  active ingredient count  misspelling count\n",
       "count      8028.000000              8028.000000        8028.000000\n",
       "mean          0.896487                 0.229571           1.110737\n",
       "std           0.663804                 0.506578           1.777682\n",
       "min           0.000000                 0.000000           0.000000\n",
       "25%           1.000000                 0.000000           0.000000\n",
       "50%           1.000000                 0.000000           1.000000\n",
       "75%           1.000000                 0.000000           1.000000\n",
       "max          10.000000                 6.000000          27.000000"
      ]
     },
     "execution_count": 59,
     "metadata": {},
     "output_type": "execute_result"
    }
   ],
   "source": [
    "XTrain[['drug name count','active ingredient count','misspelling count']].describe()"
   ]
  }
 ],
 "metadata": {
  "kernelspec": {
   "display_name": "Python 3",
   "language": "python",
   "name": "python3"
  },
  "language_info": {
   "codemirror_mode": {
    "name": "ipython",
    "version": 3
   },
   "file_extension": ".py",
   "mimetype": "text/x-python",
   "name": "python",
   "nbconvert_exporter": "python",
   "pygments_lexer": "ipython3",
   "version": "3.6.5"
  }
 },
 "nbformat": 4,
 "nbformat_minor": 2
}
