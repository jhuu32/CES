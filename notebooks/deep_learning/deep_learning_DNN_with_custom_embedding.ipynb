{
 "cells": [
  {
   "cell_type": "markdown",
   "metadata": {},
   "source": [
    "## Experiment DL learning with custom embedding and simple Dense layer\n",
    "Even if the training set is too small to produce a representative word embedding, this notebook illustrates an experiment to have a rough idea on the resulting score with such embedding choice"
   ]
  },
  {
   "cell_type": "code",
   "execution_count": 8,
   "metadata": {},
   "outputs": [],
   "source": [
    "import pandas as pd\n",
    "import numpy as np\n",
    "import matplotlib.pyplot as plt\n",
    "import sys\n",
    "sys.path.append('..')\n",
    "from utils import vizu"
   ]
  },
  {
   "cell_type": "code",
   "execution_count": 9,
   "metadata": {},
   "outputs": [],
   "source": [
    "from sklearn.model_selection import train_test_split\n",
    "\n",
    "XTrain = pd.read_csv('../../data/staging_data/mispelling_fixed_clean_input_train.csv', sep=',')\n",
    "YTrain = pd.read_csv('../../data/POSOS/label.csv', sep=';')\n",
    "XTrain, XTest, YTrain, YTest = train_test_split(XTrain, YTrain, test_size=0.15, random_state=42)"
   ]
  },
  {
   "cell_type": "code",
   "execution_count": 10,
   "metadata": {},
   "outputs": [],
   "source": [
    "# hyper params\n",
    "num_classes = 51\n",
    "patience=20\n",
    "vocabulary_size = 10000\n",
    "sequence_length = 30\n",
    "hidden_dims = 100\n",
    "embedding_out_dims = 300\n",
    "dropout_rate=0.2\n",
    "num_epochs= 100"
   ]
  },
  {
   "cell_type": "code",
   "execution_count": 11,
   "metadata": {},
   "outputs": [],
   "source": [
    "from keras.preprocessing.text import Tokenizer\n",
    "from keras.preprocessing.sequence import pad_sequences\n",
    "\n",
    "tokenizer = Tokenizer(num_words= vocabulary_size)\n",
    "tokenizer.fit_on_texts(XTrain['question'])\n",
    "\n",
    "sequences = tokenizer.texts_to_sequences(XTrain['question'])\n",
    "XEncodedTrain = pad_sequences(sequences, maxlen=sequence_length)"
   ]
  },
  {
   "cell_type": "markdown",
   "metadata": {},
   "source": [
    "### Build the neural network\n",
    "The NN is composed of 3 layers:\n",
    "* custom embeddding layer\n",
    "* fully connected layer to learn classification with relu activation\n",
    "* decision layer with sotfmax activation"
   ]
  },
  {
   "cell_type": "code",
   "execution_count": 12,
   "metadata": {},
   "outputs": [
    {
     "name": "stdout",
     "output_type": "stream",
     "text": [
      "_________________________________________________________________\n",
      "Layer (type)                 Output Shape              Param #   \n",
      "=================================================================\n",
      "embedding_2 (Embedding)      (None, 30, 300)           3000000   \n",
      "_________________________________________________________________\n",
      "flatten_2 (Flatten)          (None, 9000)              0         \n",
      "_________________________________________________________________\n",
      "dense_3 (Dense)              (None, 100)               900100    \n",
      "_________________________________________________________________\n",
      "dropout_2 (Dropout)          (None, 100)               0         \n",
      "_________________________________________________________________\n",
      "dense_4 (Dense)              (None, 51)                5151      \n",
      "=================================================================\n",
      "Total params: 3,905,251\n",
      "Trainable params: 3,905,251\n",
      "Non-trainable params: 0\n",
      "_________________________________________________________________\n"
     ]
    }
   ],
   "source": [
    "import keras\n",
    "from keras.models import Sequential\n",
    "from keras.layers import Dense, LSTM, Dropout, Activation, Flatten\n",
    "from keras.layers.embeddings import Embedding\n",
    "\n",
    "import tensorflow as tf\n",
    "#config = tf.ConfigProto(device_count={\"CPU\": 32})\n",
    "config = tf.ConfigProto()\n",
    "keras.backend.tensorflow_backend.set_session(tf.Session(config=config))\n",
    "\n",
    "model = Sequential()\n",
    "model.add(Embedding(vocabulary_size , embedding_out_dims, input_length=sequence_length))\n",
    "model.add(Flatten())\n",
    "model.add(Dense(hidden_dims, activation='relu'))\n",
    "model.add(Dropout(rate=dropout_rate))\n",
    "model.add(Dense(num_classes, activation='softmax'))\n",
    "model.compile(loss='categorical_crossentropy', optimizer='adam', metrics=['accuracy'])\n",
    "model.summary()"
   ]
  },
  {
   "cell_type": "markdown",
   "metadata": {},
   "source": [
    "### Train the network"
   ]
  },
  {
   "cell_type": "code",
   "execution_count": 13,
   "metadata": {},
   "outputs": [],
   "source": [
    "YOneHotEncodedTrain = keras.utils.to_categorical(YTrain['intention'])"
   ]
  },
  {
   "cell_type": "code",
   "execution_count": 14,
   "metadata": {},
   "outputs": [
    {
     "name": "stdout",
     "output_type": "stream",
     "text": [
      "Train on 6140 samples, validate on 683 samples\n",
      "Epoch 1/100\n",
      "6140/6140 [==============================] - 14s 2ms/step - loss: 2.9948 - acc: 0.2697 - val_loss: 2.5732 - val_acc: 0.3558\n",
      "Epoch 2/100\n",
      "6140/6140 [==============================] - 14s 2ms/step - loss: 1.8980 - acc: 0.5318 - val_loss: 1.9863 - val_acc: 0.4919\n",
      "Epoch 3/100\n",
      "6140/6140 [==============================] - 14s 2ms/step - loss: 0.9051 - acc: 0.7866 - val_loss: 1.7369 - val_acc: 0.5769\n",
      "Epoch 4/100\n",
      "6140/6140 [==============================] - 15s 2ms/step - loss: 0.3734 - acc: 0.9213 - val_loss: 1.7276 - val_acc: 0.5915\n",
      "Epoch 5/100\n",
      "6140/6140 [==============================] - 15s 2ms/step - loss: 0.1699 - acc: 0.9691 - val_loss: 1.8171 - val_acc: 0.5900\n",
      "Epoch 6/100\n",
      "6140/6140 [==============================] - 15s 2ms/step - loss: 0.0925 - acc: 0.9865 - val_loss: 1.8770 - val_acc: 0.5871\n",
      "Epoch 7/100\n",
      "6140/6140 [==============================] - 15s 2ms/step - loss: 0.0671 - acc: 0.9884 - val_loss: 1.9609 - val_acc: 0.5886\n",
      "Epoch 8/100\n",
      "6140/6140 [==============================] - 15s 2ms/step - loss: 0.0578 - acc: 0.9897 - val_loss: 1.9423 - val_acc: 0.5974\n",
      "Epoch 9/100\n",
      "6140/6140 [==============================] - 15s 2ms/step - loss: 0.0466 - acc: 0.9912 - val_loss: 2.0041 - val_acc: 0.5944\n",
      "Epoch 10/100\n",
      "6140/6140 [==============================] - 15s 2ms/step - loss: 0.0439 - acc: 0.9922 - val_loss: 2.0508 - val_acc: 0.6032\n",
      "Epoch 11/100\n",
      "6140/6140 [==============================] - 15s 2ms/step - loss: 0.0398 - acc: 0.9923 - val_loss: 2.1304 - val_acc: 0.5944\n",
      "Epoch 12/100\n",
      "6140/6140 [==============================] - 15s 2ms/step - loss: 0.0353 - acc: 0.9923 - val_loss: 2.1672 - val_acc: 0.5798\n",
      "Epoch 13/100\n",
      "6140/6140 [==============================] - 15s 2ms/step - loss: 0.0330 - acc: 0.9930 - val_loss: 2.1663 - val_acc: 0.5857\n",
      "Epoch 14/100\n",
      "6140/6140 [==============================] - 15s 2ms/step - loss: 0.0329 - acc: 0.9917 - val_loss: 2.1829 - val_acc: 0.5827\n",
      "Epoch 15/100\n",
      "6140/6140 [==============================] - 15s 2ms/step - loss: 0.0308 - acc: 0.9932 - val_loss: 2.2737 - val_acc: 0.5769\n",
      "Epoch 16/100\n",
      "6140/6140 [==============================] - 16s 3ms/step - loss: 0.0284 - acc: 0.9933 - val_loss: 2.2855 - val_acc: 0.5798\n",
      "Epoch 17/100\n",
      "6140/6140 [==============================] - 15s 2ms/step - loss: 0.0271 - acc: 0.9933 - val_loss: 2.2784 - val_acc: 0.5857\n",
      "Epoch 18/100\n",
      "6140/6140 [==============================] - 15s 2ms/step - loss: 0.0233 - acc: 0.9933 - val_loss: 2.3779 - val_acc: 0.5710\n",
      "Epoch 19/100\n",
      "6140/6140 [==============================] - 15s 3ms/step - loss: 0.0258 - acc: 0.9928 - val_loss: 2.3316 - val_acc: 0.5725\n",
      "Epoch 20/100\n",
      "6140/6140 [==============================] - 15s 3ms/step - loss: 0.0258 - acc: 0.9928 - val_loss: 2.3376 - val_acc: 0.5710\n",
      "Epoch 21/100\n",
      "6140/6140 [==============================] - 15s 3ms/step - loss: 0.0258 - acc: 0.9922 - val_loss: 2.5200 - val_acc: 0.5637\n",
      "Epoch 22/100\n",
      "6140/6140 [==============================] - 16s 3ms/step - loss: 0.0204 - acc: 0.9951 - val_loss: 2.3492 - val_acc: 0.5608\n",
      "Epoch 23/100\n",
      "6140/6140 [==============================] - 16s 3ms/step - loss: 0.0249 - acc: 0.9925 - val_loss: 2.2929 - val_acc: 0.5769\n",
      "Epoch 24/100\n",
      "6140/6140 [==============================] - 16s 3ms/step - loss: 0.0245 - acc: 0.9938 - val_loss: 2.4266 - val_acc: 0.5813\n"
     ]
    },
    {
     "data": {
      "text/plain": [
       "<keras.callbacks.History at 0x1a36aa2eb8>"
      ]
     },
     "execution_count": 14,
     "metadata": {},
     "output_type": "execute_result"
    }
   ],
   "source": [
    "import keras.utils\n",
    "\n",
    "call_back_board = keras.callbacks.TensorBoard(\n",
    "    log_dir='/Users/i051796/git/CES/logs',\n",
    "    histogram_freq=0,\n",
    "    batch_size=32,\n",
    "    write_graph=True,\n",
    "    write_grads=True,\n",
    "    write_images=True,\n",
    "    embeddings_freq=0,\n",
    "    embeddings_layer_names=None,\n",
    "    embeddings_metadata=None,\n",
    "    embeddings_data=None)\n",
    "\n",
    "# stop criterion to avoid overfitting\n",
    "call_back_early_stopping = keras.callbacks.EarlyStopping(\n",
    "    monitor='val_loss',\n",
    "    min_delta=0,\n",
    "    patience=patience,\n",
    "    verbose=0,\n",
    "    mode='auto',\n",
    "    baseline=None)\n",
    "\n",
    "model.fit(\n",
    "    XEncodedTrain,\n",
    "    np.array(YOneHotEncodedTrain),\n",
    "    validation_split=0.1,\n",
    "    epochs=num_epochs,\n",
    "    callbacks = [call_back_early_stopping, call_back_board])"
   ]
  },
  {
   "cell_type": "code",
   "execution_count": null,
   "metadata": {},
   "outputs": [],
   "source": [
    "%matplotlib inline\n",
    "vizu.plot_keras_model_learning_curve(model.history)"
   ]
  },
  {
   "cell_type": "code",
   "execution_count": null,
   "metadata": {},
   "outputs": [],
   "source": [
    "import sklearn\n",
    "from sklearn.metrics import confusion_matrix\n",
    "\n",
    "testSequences = tokenizer.texts_to_sequences(XTest['question'])\n",
    "XEncodedTest = pad_sequences(testSequences, maxlen=sequence_length)\n",
    "    \n",
    "YTrue = YTest['intention']\n",
    "YPredicted = model.predict_classes(XEncodedTest)\n",
    "#YPredicted =list(map(lambda x : getHighProbaLabel(x), YProba))\n",
    "\n",
    "cnf_matrix = confusion_matrix(YTrue, YPredicted)\n",
    "\n",
    "print(sklearn.metrics.classification_report(YTrue, YPredicted))\n",
    "\n",
    "plt.figure(figsize=(20,20))\n",
    "\n",
    "vizu.plot_confusion_matrix(cnf_matrix, normalize=False, classes = np.unique(YTrain['intention']))\n",
    "\n",
    "plt.show()\n"
   ]
  },
  {
   "cell_type": "markdown",
   "metadata": {},
   "source": [
    "The model is overfitting rapidly beyond 5 epochs but no observed accuracy improvement on validation set (get rapidly stationary accuracy aounrd 62%)"
   ]
  },
  {
   "cell_type": "code",
   "execution_count": null,
   "metadata": {},
   "outputs": [],
   "source": [
    "macroF1Score = sklearn.metrics.f1_score(YTrue, YPredicted, average='macro')\n",
    "microF1Score = sklearn.metrics.f1_score(YTrue, YPredicted, average='micro')\n",
    "print (\"micro F1 score = {:1.4f} ; macro F1 score = {:1.4f}\".format(microF1Score, macroF1Score))"
   ]
  }
 ],
 "metadata": {
  "kernelspec": {
   "display_name": "Python 3",
   "language": "python",
   "name": "python3"
  },
  "language_info": {
   "codemirror_mode": {
    "name": "ipython",
    "version": 3
   },
   "file_extension": ".py",
   "mimetype": "text/x-python",
   "name": "python",
   "nbconvert_exporter": "python",
   "pygments_lexer": "ipython3",
   "version": "3.6.5"
  }
 },
 "nbformat": 4,
 "nbformat_minor": 2
}
