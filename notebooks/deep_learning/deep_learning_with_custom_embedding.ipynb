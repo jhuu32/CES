{
 "cells": [
  {
   "cell_type": "markdown",
   "metadata": {},
   "source": [
    "## Experiment DL learning with custom embedding\n",
    "Even if the training set is too small to produce a representative word embedding, this notebook illustrates an experiment to have a rough idea on the resulting score with such embedding choice"
   ]
  },
  {
   "cell_type": "code",
   "execution_count": 1,
   "metadata": {},
   "outputs": [],
   "source": [
    "import pandas as pd\n",
    "import numpy as np"
   ]
  },
  {
   "cell_type": "code",
   "execution_count": 2,
   "metadata": {},
   "outputs": [],
   "source": [
    "XTrain = pd.read_csv('../../data/staging_data/mispelling_fixed_clean_input_train.csv', sep=',')\n",
    "YTrain = pd.read_csv('../../data/POSOS/label.csv', sep=';')"
   ]
  },
  {
   "cell_type": "code",
   "execution_count": 3,
   "metadata": {},
   "outputs": [],
   "source": [
    "# hyper params\n",
    "num_classes = 51\n",
    "vocabulary_size = 10000\n",
    "sequence_length = 30\n",
    "embedding_out_dims = 400"
   ]
  },
  {
   "cell_type": "code",
   "execution_count": 4,
   "metadata": {},
   "outputs": [
    {
     "name": "stderr",
     "output_type": "stream",
     "text": [
      "d:\\ProgramData\\Anaconda3\\lib\\site-packages\\h5py\\__init__.py:36: FutureWarning: Conversion of the second argument of issubdtype from `float` to `np.floating` is deprecated. In future, it will be treated as `np.float64 == np.dtype(float).type`.\n",
      "  from ._conv import register_converters as _register_converters\n",
      "Using TensorFlow backend.\n"
     ]
    }
   ],
   "source": [
    "from keras.preprocessing.text import Tokenizer\n",
    "from keras.preprocessing.sequence import pad_sequences\n",
    "\n",
    "tokenizer = Tokenizer(num_words= vocabulary_size)\n",
    "tokenizer.fit_on_texts(XTrain['question'])\n",
    "\n",
    "sequences = tokenizer.texts_to_sequences(XTrain['question'])\n",
    "XEncodedTrain = pad_sequences(sequences, maxlen=sequence_length)"
   ]
  },
  {
   "cell_type": "markdown",
   "metadata": {},
   "source": [
    "### Build the neural network\n",
    "The NN is composed of 3 layers:\n",
    "* custom embeddding layer\n",
    "* LSTM layer to learn on word sequence\n",
    "* fully connected layer to learn classification"
   ]
  },
  {
   "cell_type": "code",
   "execution_count": 5,
   "metadata": {},
   "outputs": [
    {
     "name": "stdout",
     "output_type": "stream",
     "text": [
      "_________________________________________________________________\n",
      "Layer (type)                 Output Shape              Param #   \n",
      "=================================================================\n",
      "embedding_1 (Embedding)      (None, 30, 400)           4000000   \n",
      "_________________________________________________________________\n",
      "lstm_1 (LSTM)                (None, 400)               1281600   \n",
      "_________________________________________________________________\n",
      "dense_1 (Dense)              (None, 51)                20451     \n",
      "=================================================================\n",
      "Total params: 5,302,051\n",
      "Trainable params: 5,302,051\n",
      "Non-trainable params: 0\n",
      "_________________________________________________________________\n"
     ]
    }
   ],
   "source": [
    "import keras\n",
    "from keras.models import Sequential\n",
    "from keras.layers import Dense, LSTM, Dropout, Activation\n",
    "from keras.layers.embeddings import Embedding\n",
    "\n",
    "import tensorflow as tf\n",
    "#config = tf.ConfigProto(device_count={\"CPU\": 32})\n",
    "config = tf.ConfigProto()\n",
    "keras.backend.tensorflow_backend.set_session(tf.Session(config=config))\n",
    "\n",
    "model_lstm = Sequential()\n",
    "model_lstm.add(Embedding(vocabulary_size , embedding_out_dims, input_length=sequence_length))\n",
    "model_lstm.add(LSTM(embedding_out_dims, dropout=0.25, recurrent_dropout=0.25))\n",
    "model_lstm.add(Dense(num_classes, activation='softmax'))\n",
    "model_lstm.compile(loss='categorical_crossentropy', optimizer='adam', metrics=['accuracy'])\n",
    "model_lstm.summary()"
   ]
  },
  {
   "cell_type": "markdown",
   "metadata": {},
   "source": [
    "### Train the network"
   ]
  },
  {
   "cell_type": "code",
   "execution_count": 6,
   "metadata": {},
   "outputs": [],
   "source": [
    "YOneHotEncodedTrain = keras.utils.to_categorical(YTrain['intention'])"
   ]
  },
  {
   "cell_type": "code",
   "execution_count": 7,
   "metadata": {},
   "outputs": [
    {
     "name": "stdout",
     "output_type": "stream",
     "text": [
      "Train on 6422 samples, validate on 1606 samples\n",
      "Epoch 1/20\n",
      "6422/6422 [==============================] - 17s 3ms/step - loss: 2.8018 - acc: 0.3097 - val_loss: 2.1584 - val_acc: 0.4651\n",
      "Epoch 2/20\n",
      "6422/6422 [==============================] - 15s 2ms/step - loss: 1.7445 - acc: 0.5439 - val_loss: 1.6531 - val_acc: 0.5897\n",
      "Epoch 3/20\n",
      "6422/6422 [==============================] - 15s 2ms/step - loss: 1.0814 - acc: 0.7077 - val_loss: 1.5582 - val_acc: 0.6208\n",
      "Epoch 4/20\n",
      "6422/6422 [==============================] - 15s 2ms/step - loss: 0.6776 - acc: 0.8127 - val_loss: 1.5577 - val_acc: 0.6314\n",
      "Epoch 5/20\n",
      "6422/6422 [==============================] - 15s 2ms/step - loss: 0.4258 - acc: 0.8851 - val_loss: 1.6534 - val_acc: 0.6158\n",
      "Epoch 6/20\n",
      "6422/6422 [==============================] - 15s 2ms/step - loss: 0.2791 - acc: 0.9229 - val_loss: 1.7660 - val_acc: 0.6171\n",
      "Epoch 7/20\n",
      "6422/6422 [==============================] - 15s 2ms/step - loss: 0.1832 - acc: 0.9511 - val_loss: 1.8345 - val_acc: 0.6220\n",
      "Epoch 8/20\n",
      "6422/6422 [==============================] - 15s 2ms/step - loss: 0.1289 - acc: 0.9681 - val_loss: 1.8816 - val_acc: 0.6214\n",
      "Epoch 9/20\n",
      "6422/6422 [==============================] - 15s 2ms/step - loss: 0.0888 - acc: 0.9785 - val_loss: 1.9790 - val_acc: 0.6357\n",
      "Epoch 10/20\n",
      "6422/6422 [==============================] - 15s 2ms/step - loss: 0.0641 - acc: 0.9833 - val_loss: 2.0372 - val_acc: 0.6308\n",
      "Epoch 11/20\n",
      "6422/6422 [==============================] - 15s 2ms/step - loss: 0.0544 - acc: 0.9852 - val_loss: 2.1064 - val_acc: 0.6245\n",
      "Epoch 12/20\n",
      "6422/6422 [==============================] - 15s 2ms/step - loss: 0.0390 - acc: 0.9910 - val_loss: 2.1630 - val_acc: 0.6295\n",
      "Epoch 13/20\n",
      "6422/6422 [==============================] - 15s 2ms/step - loss: 0.0362 - acc: 0.9905 - val_loss: 2.1795 - val_acc: 0.6276\n",
      "Epoch 14/20\n",
      "6422/6422 [==============================] - 15s 2ms/step - loss: 0.0320 - acc: 0.9908 - val_loss: 2.1568 - val_acc: 0.6208\n",
      "Epoch 15/20\n",
      "6422/6422 [==============================] - 15s 2ms/step - loss: 0.0278 - acc: 0.9925 - val_loss: 2.2505 - val_acc: 0.6245\n",
      "Epoch 16/20\n",
      "6422/6422 [==============================] - 15s 2ms/step - loss: 0.0284 - acc: 0.9921 - val_loss: 2.2676 - val_acc: 0.6276\n",
      "Epoch 17/20\n",
      "6422/6422 [==============================] - 15s 2ms/step - loss: 0.0282 - acc: 0.9913 - val_loss: 2.2893 - val_acc: 0.6202\n",
      "Epoch 18/20\n",
      "6422/6422 [==============================] - 15s 2ms/step - loss: 0.0295 - acc: 0.9907 - val_loss: 2.2886 - val_acc: 0.6227\n",
      "Epoch 19/20\n",
      "6422/6422 [==============================] - 15s 2ms/step - loss: 0.0296 - acc: 0.9903 - val_loss: 2.3078 - val_acc: 0.6220\n",
      "Epoch 20/20\n",
      "6422/6422 [==============================] - 15s 2ms/step - loss: 0.0332 - acc: 0.9896 - val_loss: 2.2498 - val_acc: 0.6127\n"
     ]
    },
    {
     "data": {
      "text/plain": [
       "<keras.callbacks.History at 0x17b21b87a20>"
      ]
     },
     "execution_count": 7,
     "metadata": {},
     "output_type": "execute_result"
    }
   ],
   "source": [
    "import keras.utils\n",
    "\n",
    "model_lstm.fit(XEncodedTrain, np.array(YOneHotEncodedTrain), validation_split=0.2, epochs=20)"
   ]
  },
  {
   "cell_type": "code",
   "execution_count": 8,
   "metadata": {},
   "outputs": [],
   "source": [
    "# %load \"../utils/vizu.py\"\n",
    "import matplotlib.pyplot as plt\n",
    "import itertools\n",
    "\n",
    "def plot_keras_model_learning_curve(history):\n",
    "    ''' plot accuracy of the Keras model on training and validation set '''\n",
    "    plt.figure(figsize=(12,8))\n",
    "    plt.plot(history.history['acc'])\n",
    "    plt.plot(history.history['val_acc'])\n",
    "    plt.title('model accuracy')\n",
    "    plt.ylabel('accuracy')\n",
    "    plt.xlabel('epoch')\n",
    "    plt.legend(['train', 'validation'], loc='upper left')\n",
    "    plt.show()\n",
    "\n",
    "def plot_confusion_matrix(cm, classes,\n",
    "                          normalize=False,\n",
    "                          title='Confusion matrix',\n",
    "                          cmap=plt.cm.Blues):\n",
    "    \"\"\"\n",
    "    This function prints and plots the confusion matrix.\n",
    "    \"\"\"\n",
    "    if normalize:\n",
    "        cm = cm.astype('float') / cm.sum(axis=1)[:, np.newaxis]\n",
    "        print(\"Normalized confusion matrix\")\n",
    "    else:\n",
    "        print('Confusion matrix, without normalization')\n",
    "\n",
    "    print(cm)\n",
    "\n",
    "    plt.imshow(cm, interpolation='nearest', cmap=cmap)\n",
    "    plt.title(title)\n",
    "    plt.colorbar()\n",
    "    tick_marks = np.arange(len(classes))\n",
    "    plt.xticks(tick_marks, classes, rotation=45)\n",
    "    plt.yticks(tick_marks, classes)\n",
    "\n",
    "    fmt = '.2f' if normalize else 'd'\n",
    "    thresh = cm.max() / 2.\n",
    "    for i, j in itertools.product(range(cm.shape[0]), range(cm.shape[1])):\n",
    "        plt.text(j, i, format(cm[i, j], fmt),\n",
    "                 horizontalalignment=\"center\",\n",
    "                 color=\"white\" if cm[i, j] > thresh else \"black\")\n",
    "\n",
    "    plt.tight_layout()\n",
    "    plt.ylabel('True label')\n",
    "\n",
    "    plt.xlabel('Predicted label')"
   ]
  },
  {
   "cell_type": "code",
   "execution_count": 9,
   "metadata": {},
   "outputs": [
    {
     "data": {
      "image/png": "[encoded data removed]",
      "text/plain": [
       "<Figure size 864x576 with 1 Axes>"
      ]
     },
     "metadata": {},
     "output_type": "display_data"
    }
   ],
   "source": [
    "%matplotlib inline\n",
    "\n",
    "plot_keras_model_learning_curve(model_lstm.history)"
   ]
  },
  {
   "cell_type": "markdown",
   "metadata": {},
   "source": [
    "The model is overfitting rapidly beyond 5 epochs but no observed accuracy improvement on validation set (get rapidly stationary accuracy aounrd 62%)"
   ]
  }
 ],
 "metadata": {
  "kernelspec": {
   "display_name": "Python 3",
   "language": "python",
   "name": "python3"
  },
  "language_info": {
   "codemirror_mode": {
    "name": "ipython",
    "version": 3
   },
   "file_extension": ".py",
   "mimetype": "text/x-python",
   "name": "python",
   "nbconvert_exporter": "python",
   "pygments_lexer": "ipython3",
   "version": "3.6.5"
  }
 },
 "nbformat": 4,
 "nbformat_minor": 2
}
