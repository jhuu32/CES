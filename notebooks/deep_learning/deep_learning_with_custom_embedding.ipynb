{
 "cells": [
  {
   "cell_type": "markdown",
   "metadata": {},
   "source": [
    "## Experiment DL learning with the custom embedding\n",
    "Even if the training set is too small to produce a representative word embedding, this notebook illustrates an experiment to have a rough idea on the resulting score with such embedding choice"
   ]
  },
  {
   "cell_type": "code",
   "execution_count": 11,
   "metadata": {},
   "outputs": [],
   "source": [
    "import pandas as pd\n",
    "import numpy as np\n",
    "import keras\n",
    "from keras.preprocessing.text import Tokenizer\n",
    "from keras.preprocessing.sequence import pad_sequences\n",
    "from keras.models import Sequential\n",
    "from keras.layers import Dense, LSTM, Dropout, Activation\n",
    "from keras.layers.embeddings import Embedding"
   ]
  },
  {
   "cell_type": "markdown",
   "metadata": {},
   "source": []
  },
  {
   "cell_type": "code",
   "execution_count": 5,
   "metadata": {},
   "outputs": [],
   "source": [
    "XTrain = pd.read_csv('../../data/staging_data/mispelling_fixed_clean_input_train.csv', sep=',')\n",
    "YTrain = pd.read_csv('../../data/POSOS/label.csv', sep=';')\n",
    "num_classes = 51"
   ]
  },
  {
   "cell_type": "code",
   "execution_count": 6,
   "metadata": {},
   "outputs": [],
   "source": [
    "vocabulary_size = 10000\n",
    "padding = 25\n",
    "embed_out_size = 300\n",
    "\n",
    "tokenizer = Tokenizer(num_words= vocabulary_size)\n",
    "tokenizer.fit_on_texts(XTrain['question'])\n",
    "\n",
    "sequences = tokenizer.texts_to_sequences(XTrain['question'])\n",
    "XEncodedTrain = pad_sequences(sequences, maxlen=padding)"
   ]
  },
  {
   "cell_type": "markdown",
   "metadata": {},
   "source": [
    "### Build the neural network\n",
    "The NN is composed of 3 layers:\n",
    "* custom embeddding layer\n",
    "* LSTM layer to learn on word sequence\n",
    "* fully connected layer to learn classification"
   ]
  },
  {
   "cell_type": "code",
   "execution_count": 9,
   "metadata": {},
   "outputs": [
    {
     "name": "stdout",
     "output_type": "stream",
     "text": [
      "_________________________________________________________________\n",
      "Layer (type)                 Output Shape              Param #   \n",
      "=================================================================\n",
      "embedding_3 (Embedding)      (None, 25, 300)           3000000   \n",
      "_________________________________________________________________\n",
      "lstm_3 (LSTM)                (None, 300)               721200    \n",
      "_________________________________________________________________\n",
      "dense_3 (Dense)              (None, 51)                15351     \n",
      "=================================================================\n",
      "Total params: 3,736,551\n",
      "Trainable params: 3,736,551\n",
      "Non-trainable params: 0\n",
      "_________________________________________________________________\n"
     ]
    }
   ],
   "source": [
    "import tensorflow as tf\n",
    "#config = tf.ConfigProto(device_count={\"CPU\": 32})\n",
    "config = tf.ConfigProto(log_device_placement=True)\n",
    "keras.backend.tensorflow_backend.set_session(tf.Session(config=config))\n",
    "\n",
    "model_lstm = Sequential()\n",
    "model_lstm.add(Embedding(vocabulary_size , embed_out_size, input_length=padding))\n",
    "model_lstm.add(LSTM(embed_out_size, dropout=0.2, recurrent_dropout=0.2))\n",
    "model_lstm.add(Dense(num_classes, activation='softmax'))\n",
    "model_lstm.compile(loss='categorical_crossentropy', optimizer='adam', metrics=['accuracy'])\n",
    "model_lstm.summary()"
   ]
  },
  {
   "cell_type": "markdown",
   "metadata": {},
   "source": [
    "### Train the network"
   ]
  },
  {
   "cell_type": "code",
   "execution_count": 12,
   "metadata": {},
   "outputs": [],
   "source": [
    "YOneHotEncodedTrain = keras.utils.to_categorical(YTrain['intention'])"
   ]
  },
  {
   "cell_type": "code",
   "execution_count": null,
   "metadata": {},
   "outputs": [
    {
     "name": "stdout",
     "output_type": "stream",
     "text": [
      "Train on 6422 samples, validate on 1606 samples\n",
      "Epoch 1/10\n",
      "6422/6422 [==============================] - 29s 5ms/step - loss: 2.9184 - acc: 0.2792 - val_loss: 2.2621 - val_acc: 0.4384\n",
      "Epoch 2/10\n",
      " 800/6422 [==>...........................] - ETA: 9s - loss: 2.0658 - acc: 0.4988"
     ]
    }
   ],
   "source": [
    "import keras.utils\n",
    "\n",
    "model_lstm.fit(XEncodedTrain, np.array(YOneHotEncodedTrain), validation_split=0.2, epochs=10)"
   ]
  }
 ],
 "metadata": {
  "kernelspec": {
   "display_name": "Python 3",
   "language": "python",
   "name": "python3"
  },
  "language_info": {
   "codemirror_mode": {
    "name": "ipython",
    "version": 3
   },
   "file_extension": ".py",
   "mimetype": "text/x-python",
   "name": "python",
   "nbconvert_exporter": "python",
   "pygments_lexer": "ipython3",
   "version": "3.6.5"
  }
 },
 "nbformat": 4,
 "nbformat_minor": 2
}
