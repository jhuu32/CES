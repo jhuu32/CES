{
 "cells": [
  {
   "cell_type": "markdown",
   "metadata": {},
   "source": [
    "## Experiment DL learning with custom embedding\n",
    "Even if the training set is too small to produce a representative word embedding, this notebook illustrates an experiment to have a rough idea on the resulting score with such embedding choice"
   ]
  },
  {
   "cell_type": "code",
   "execution_count": 11,
   "metadata": {},
   "outputs": [],
   "source": [
    "import pandas as pd\n",
    "import numpy as np"
   ]
  },
  {
   "cell_type": "code",
   "execution_count": 5,
   "metadata": {},
   "outputs": [],
   "source": [
    "XTrain = pd.read_csv('../../data/staging_data/mispelling_fixed_clean_input_train.csv', sep=',')\n",
    "YTrain = pd.read_csv('../../data/POSOS/label.csv', sep=';')\n",
    "num_classes = 51"
   ]
  },
  {
   "cell_type": "code",
   "execution_count": 19,
   "metadata": {},
   "outputs": [],
   "source": [
    "vocabulary_size = 10000\n",
    "padding = 30\n",
    "embed_out_size = 400\n",
    "\n",
    "tokenizer = Tokenizer(num_words= vocabulary_size)\n",
    "tokenizer.fit_on_texts(XTrain['question'])\n",
    "\n",
    "sequences = tokenizer.texts_to_sequences(XTrain['question'])\n",
    "XEncodedTrain = pad_sequences(sequences, maxlen=padding)"
   ]
  },
  {
   "cell_type": "markdown",
   "metadata": {},
   "source": [
    "### Build the neural network\n",
    "The NN is composed of 3 layers:\n",
    "* custom embeddding layer\n",
    "* LSTM layer to learn on word sequence\n",
    "* fully connected layer to learn classification"
   ]
  },
  {
   "cell_type": "code",
   "execution_count": 20,
   "metadata": {},
   "outputs": [
    {
     "name": "stdout",
     "output_type": "stream",
     "text": [
      "_________________________________________________________________\n",
      "Layer (type)                 Output Shape              Param #   \n",
      "=================================================================\n",
      "embedding_4 (Embedding)      (None, 30, 400)           4000000   \n",
      "_________________________________________________________________\n",
      "lstm_4 (LSTM)                (None, 400)               1281600   \n",
      "_________________________________________________________________\n",
      "dense_4 (Dense)              (None, 51)                20451     \n",
      "=================================================================\n",
      "Total params: 5,302,051\n",
      "Trainable params: 5,302,051\n",
      "Non-trainable params: 0\n",
      "_________________________________________________________________\n"
     ]
    }
   ],
   "source": [
    "import keras\n",
    "from keras.preprocessing.text import Tokenizer\n",
    "from keras.preprocessing.sequence import pad_sequences\n",
    "from keras.models import Sequential\n",
    "from keras.layers import Dense, LSTM, Dropout, Activation\n",
    "from keras.layers.embeddings import Embedding\n",
    "\n",
    "import tensorflow as tf\n",
    "#config = tf.ConfigProto(device_count={\"CPU\": 32})\n",
    "config = tf.ConfigProto()\n",
    "keras.backend.tensorflow_backend.set_session(tf.Session(config=config))\n",
    "\n",
    "model_lstm = Sequential()\n",
    "model_lstm.add(Embedding(vocabulary_size , embed_out_size, input_length=padding))\n",
    "model_lstm.add(LSTM(embed_out_size, dropout=0.25, recurrent_dropout=0.25))\n",
    "model_lstm.add(Dense(num_classes, activation='softmax'))\n",
    "model_lstm.compile(loss='categorical_crossentropy', optimizer='adam', metrics=['accuracy'])\n",
    "model_lstm.summary()"
   ]
  },
  {
   "cell_type": "markdown",
   "metadata": {},
   "source": [
    "### Train the network"
   ]
  },
  {
   "cell_type": "code",
   "execution_count": 21,
   "metadata": {},
   "outputs": [],
   "source": [
    "YOneHotEncodedTrain = keras.utils.to_categorical(YTrain['intention'])"
   ]
  },
  {
   "cell_type": "code",
   "execution_count": 22,
   "metadata": {},
   "outputs": [
    {
     "name": "stdout",
     "output_type": "stream",
     "text": [
      "Train on 6422 samples, validate on 1606 samples\n",
      "Epoch 1/20\n",
      "6422/6422 [==============================] - 46s 7ms/step - loss: 2.8258 - acc: 0.2954 - val_loss: 2.1104 - val_acc: 0.4795\n",
      "Epoch 2/20\n",
      "6422/6422 [==============================] - 14s 2ms/step - loss: 1.6437 - acc: 0.5763 - val_loss: 1.6351 - val_acc: 0.5834\n",
      "Epoch 3/20\n",
      "6422/6422 [==============================] - 15s 2ms/step - loss: 0.8941 - acc: 0.7627 - val_loss: 1.5449 - val_acc: 0.6115\n",
      "Epoch 4/20\n",
      "6422/6422 [==============================] - 15s 2ms/step - loss: 0.4911 - acc: 0.8690 - val_loss: 1.6268 - val_acc: 0.6208\n",
      "Epoch 5/20\n",
      "6422/6422 [==============================] - 15s 2ms/step - loss: 0.2959 - acc: 0.9226 - val_loss: 1.7098 - val_acc: 0.6276\n",
      "Epoch 6/20\n",
      "6422/6422 [==============================] - 16s 2ms/step - loss: 0.1731 - acc: 0.9562 - val_loss: 1.7459 - val_acc: 0.6239\n",
      "Epoch 7/20\n",
      "6422/6422 [==============================] - 16s 2ms/step - loss: 0.1150 - acc: 0.9727 - val_loss: 1.8611 - val_acc: 0.6214\n",
      "Epoch 8/20\n",
      "6422/6422 [==============================] - 15s 2ms/step - loss: 0.0805 - acc: 0.9810 - val_loss: 1.9557 - val_acc: 0.6214\n",
      "Epoch 9/20\n",
      "6422/6422 [==============================] - 15s 2ms/step - loss: 0.0677 - acc: 0.9843 - val_loss: 1.9980 - val_acc: 0.6108\n",
      "Epoch 10/20\n",
      "6422/6422 [==============================] - 15s 2ms/step - loss: 0.0557 - acc: 0.9863 - val_loss: 2.0084 - val_acc: 0.6177\n",
      "Epoch 11/20\n",
      "6422/6422 [==============================] - 15s 2ms/step - loss: 0.0467 - acc: 0.9883 - val_loss: 2.0037 - val_acc: 0.6158\n",
      "Epoch 12/20\n",
      "6422/6422 [==============================] - 15s 2ms/step - loss: 0.0387 - acc: 0.9897 - val_loss: 2.0319 - val_acc: 0.6295\n",
      "Epoch 13/20\n",
      "6422/6422 [==============================] - 15s 2ms/step - loss: 0.0352 - acc: 0.9900 - val_loss: 2.0736 - val_acc: 0.6220\n",
      "Epoch 14/20\n",
      "6422/6422 [==============================] - 14s 2ms/step - loss: 0.0332 - acc: 0.9903 - val_loss: 2.1000 - val_acc: 0.6208\n",
      "Epoch 15/20\n",
      "6422/6422 [==============================] - 14s 2ms/step - loss: 0.0332 - acc: 0.9902 - val_loss: 2.1556 - val_acc: 0.6208\n",
      "Epoch 16/20\n",
      "6422/6422 [==============================] - 14s 2ms/step - loss: 0.0317 - acc: 0.9908 - val_loss: 2.1208 - val_acc: 0.6295\n",
      "Epoch 17/20\n",
      "6422/6422 [==============================] - 14s 2ms/step - loss: 0.0273 - acc: 0.9908 - val_loss: 2.1762 - val_acc: 0.6326\n",
      "Epoch 18/20\n",
      "6422/6422 [==============================] - 14s 2ms/step - loss: 0.0264 - acc: 0.9908 - val_loss: 2.1723 - val_acc: 0.6314\n",
      "Epoch 19/20\n",
      "6422/6422 [==============================] - 14s 2ms/step - loss: 0.0214 - acc: 0.9925 - val_loss: 2.2482 - val_acc: 0.6326\n",
      "Epoch 20/20\n",
      "6422/6422 [==============================] - 14s 2ms/step - loss: 0.0192 - acc: 0.9924 - val_loss: 2.3171 - val_acc: 0.6233\n"
     ]
    },
    {
     "data": {
      "text/plain": [
       "<keras.callbacks.History at 0x1daf5fa6048>"
      ]
     },
     "execution_count": 22,
     "metadata": {},
     "output_type": "execute_result"
    }
   ],
   "source": [
    "import keras.utils\n",
    "\n",
    "model_lstm.fit(XEncodedTrain, np.array(YOneHotEncodedTrain), validation_split=0.2, epochs=20)"
   ]
  },
  {
   "cell_type": "code",
   "execution_count": 43,
   "metadata": {},
   "outputs": [],
   "source": [
    "# %load \"../utils/vizu.py\"\n",
    "import matplotlib.pyplot as plt\n",
    "import itertools\n",
    "\n",
    "def plot_keras_model_learning_curve(history):\n",
    "    ''' plot accuracy of the Keras model on training and validation set '''\n",
    "    plt.figure(figsize=(12,8))\n",
    "    plt.plot(history.history['acc'])\n",
    "    plt.plot(history.history['val_acc'])\n",
    "    plt.title('model accuracy')\n",
    "    plt.ylabel('accuracy')\n",
    "    plt.xlabel('epoch')\n",
    "    plt.legend(['train', 'validation'], loc='upper left')\n",
    "    plt.show()\n",
    "\n",
    "def plot_confusion_matrix(cm, classes,\n",
    "                          normalize=False,\n",
    "                          title='Confusion matrix',\n",
    "                          cmap=plt.cm.Blues):\n",
    "    \"\"\"\n",
    "    This function prints and plots the confusion matrix.\n",
    "    \"\"\"\n",
    "    if normalize:\n",
    "        cm = cm.astype('float') / cm.sum(axis=1)[:, np.newaxis]\n",
    "        print(\"Normalized confusion matrix\")\n",
    "    else:\n",
    "        print('Confusion matrix, without normalization')\n",
    "\n",
    "    print(cm)\n",
    "\n",
    "    plt.imshow(cm, interpolation='nearest', cmap=cmap)\n",
    "    plt.title(title)\n",
    "    plt.colorbar()\n",
    "    tick_marks = np.arange(len(classes))\n",
    "    plt.xticks(tick_marks, classes, rotation=45)\n",
    "    plt.yticks(tick_marks, classes)\n",
    "\n",
    "    fmt = '.2f' if normalize else 'd'\n",
    "    thresh = cm.max() / 2.\n",
    "    for i, j in itertools.product(range(cm.shape[0]), range(cm.shape[1])):\n",
    "        plt.text(j, i, format(cm[i, j], fmt),\n",
    "                 horizontalalignment=\"center\",\n",
    "                 color=\"white\" if cm[i, j] > thresh else \"black\")\n",
    "\n",
    "    plt.tight_layout()\n",
    "    plt.ylabel('True label')\n",
    "\n",
    "    plt.xlabel('Predicted label')"
   ]
  },
  {
   "cell_type": "code",
   "execution_count": 44,
   "metadata": {},
   "outputs": [
    {
     "data": {
      "image/png": "[encoded data removed]",
      "text/plain": [
       "<Figure size 864x576 with 1 Axes>"
      ]
     },
     "metadata": {},
     "output_type": "display_data"
    }
   ],
   "source": [
    "%matplotlib inline\n",
    "\n",
    "plot_keras_model_learning_curve(model_lstm.history)"
   ]
  },
  {
   "cell_type": "markdown",
   "metadata": {},
   "source": [
    "The model is overfitting rapidly beyond 5 epochs but no observed accuracy improvement on validation set (get rapidly stationary accuracy aounrd 62%)"
   ]
  }
 ],
 "metadata": {
  "kernelspec": {
   "display_name": "Python 3",
   "language": "python",
   "name": "python3"
  },
  "language_info": {
   "codemirror_mode": {
    "name": "ipython",
    "version": 3
   },
   "file_extension": ".py",
   "mimetype": "text/x-python",
   "name": "python",
   "nbconvert_exporter": "python",
   "pygments_lexer": "ipython3",
   "version": "3.6.5"
  }
 },
 "nbformat": 4,
 "nbformat_minor": 2
}
