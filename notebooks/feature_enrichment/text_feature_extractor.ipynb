{
 "cells": [
  {
   "cell_type": "markdown",
   "metadata": {},
   "source": [
    "## Text Feature Extractor\n",
    "this notebook generates for each text some additional/handcrafted features characterizing its named entity composition and their relative relative position (entity distance):distance is the number of words separating 2 entities (it can be negative)\n",
    "* number of sentences\n",
    "* number of words\n",
    "* distinct count of drug name entities\n",
    "* distinct count of active ingredient entities\n",
    "* count of question marks (typically to identify specifically multi-intent label)\n",
    "* individual count of interrogative pronoun entities (one column per pronoun: quand, qui, quoi, ou, comment, pourquoi, combien, quel(s|le,..)\n",
    "* distinct count of time entities (eg: jours, après midi, soir, année, 12h, mardi, samedi, temps....)\n",
    "* distinct count of quantity entities (eg: 5mg, 10ml, ...)\n",
    "* count of association entities (eg: et, avec, ou, ...)\n",
    "* distance between interrogative pronoun and drug name entities\n",
    "* distance between active ingredient and drug name entities\n",
    "* distance between quantity and drug name entities\n",
    "* distance between time and drug name entities\n",
    "* distance between question marks and drug name entities\n",
    "\n",
    "these extracted features are stored into this [file](../../data/staging_data/text_extracted_features.csv) with ID column to join it with the former train dataset if required."
   ]
  },
  {
   "cell_type": "code",
   "execution_count": 1,
   "metadata": {},
   "outputs": [],
   "source": [
    "import pandas as pd\n",
    "import numpy as np\n",
    "\n",
    "XTrain = pd.read_csv('../../data/staging_data/mispelling_fixed_clean_input_train.csv', sep=',')"
   ]
  },
  {
   "cell_type": "code",
   "execution_count": 2,
   "metadata": {},
   "outputs": [
    {
     "name": "stdout",
     "output_type": "stream",
     "text": [
      "[nltk_data] Downloading package punkt to\n",
      "[nltk_data]     C:\\Users\\Jacques\\AppData\\Roaming\\nltk_data...\n",
      "[nltk_data]   Package punkt is already up-to-date!\n"
     ]
    }
   ],
   "source": [
    "from collections import Counter\n",
    "import re\n",
    "import nltk\n",
    "from nltk.tokenize import word_tokenize\n",
    "nltk.download('punkt')\n",
    "\n",
    "def words(text):\n",
    "    return re.findall(r'\\w+', text.lower())\n",
    "\n",
    "# value domain based named entities\n",
    "drugNames = set(words(open('../../data/staging_data/drug_names.txt').read()))\n",
    "ingredientNames = set(words(open('../../data/staging_data/ingredients.txt').read()))\n",
    "\n",
    "# reg expression based named entities\n",
    "questionMarkRegEx = r\"[\\?]+\"\n",
    "sentenceSeparatorRegEx = r\"[\\?]+|!|:|;|[\\.]+\"\n",
    "#quiRegEx = r\"[\\s\\?\\.\\!\\:\\;]?[Q|q]ui\\s\" qui term is ambiguous\n",
    "combienRegEx = r\"[\\s\\?\\.\\!\\:\\;]?[C|c]ombien\\s\"\n",
    "pourquoiRegEx = r\"[\\s\\?\\.\\!\\:\\;]?[P|p]ourquoi\\s\"\n",
    "quandRegEx = r\"[\\s\\?\\.\\!\\:\\;]?[Q|q]uand\\s\"\n",
    "quoiRegEx = r\"[\\s\\?\\.\\!\\:\\;]?[Q|q]uoi\\s|[\\s\\?\\.\\!\\:\\;]?[Q|q]uel[l|s|le|les]?\\s\"\n",
    "commentRegEx = r\"[\\s\\?\\.\\!\\:\\;]?[C|c]omment\\s\"\n",
    "\n",
    "\n",
    "# gold standard\n",
    "timeRegEx = r\"((D|d)emain|(H|h)ier|(M|m)atin|(M|m)idi|(S|s)oir|mois|jours|semaine(s|S)|heure(s|S))( )*( |,|\\.)\"\n",
    "quantityRegEx = r\"[0-9]+\\s?[m|k]?g|\\s[m|k]?g[^a-zA-Zéàèî]|[0-9]+\\s?[m|c]?l|\\s[m|c]?l[^a-zA-Zéàèî]\"\n",
    "\n",
    "def getWordCount(text):\n",
    "    words = word_tokenize(text, language='french')\n",
    "    return len(words)\n",
    "\n",
    "def getEntityCount(text, entityValueSet, lowerCase):\n",
    "    ''' return distinct count of entity occurrences found from the text'''\n",
    "    words = word_tokenize(text, language='french')\n",
    "    if lowerCase:\n",
    "        words = map(lambda x: x.lower(), words)\n",
    "    return len(list(set(words) & entityValueSet))"
   ]
  },
  {
   "cell_type": "code",
   "execution_count": 3,
   "metadata": {},
   "outputs": [],
   "source": [
    "XTrain['drugCount'] = XTrain['question'].map(lambda text: getEntityCount(text, drugNames, True))\n",
    "XTrain['ingredientCount'] = XTrain['question'].map(lambda text: getEntityCount(text, ingredientNames, True))"
   ]
  },
  {
   "cell_type": "code",
   "execution_count": 4,
   "metadata": {},
   "outputs": [],
   "source": [
    "XTrain['timeCount'] = XTrain['question'].map(lambda text : len(re.findall(timeRegEx, text)))\n",
    "XTrain['quantitiesCount'] = XTrain['question'].map(lambda text : len(re.findall(quantityRegEx, text)))\n",
    "XTrain['questionMarkCount'] = XTrain['question'].map(lambda text : len(re.findall(questionMarkRegEx, text)))\n",
    "XTrain['sentenceCount'] = XTrain['question'].map(lambda text : 1 + len(re.findall(sentenceSeparatorRegEx, text)))\n",
    "XTrain['wordCount'] = XTrain['question'].map(lambda text : getWordCount(text))"
   ]
  },
  {
   "cell_type": "code",
   "execution_count": 5,
   "metadata": {},
   "outputs": [],
   "source": [
    "XTrain['combienCount'] = XTrain['question'].map(lambda text : len(re.findall(combienRegEx, text)))\n",
    "XTrain['pourquoiCount'] = XTrain['question'].map(lambda text : len(re.findall(pourquoiRegEx, text)))\n",
    "XTrain['quandCount'] = XTrain['question'].map(lambda text : len(re.findall(quandRegEx, text)))\n",
    "XTrain['quoiCount'] = XTrain['question'].map(lambda text : len(re.findall(quoiRegEx, text)))\n",
    "XTrain['commentCount'] = XTrain['question'].map(lambda text : len(re.findall(commentRegEx, text)))\n"
   ]
  },
  {
   "cell_type": "code",
   "execution_count": 6,
   "metadata": {},
   "outputs": [
    {
     "data": {
      "text/html": [
       "<div>\n",
       "<style scoped>\n",
       "    .dataframe tbody tr th:only-of-type {\n",
       "        vertical-align: middle;\n",
       "    }\n",
       "\n",
       "    .dataframe tbody tr th {\n",
       "        vertical-align: top;\n",
       "    }\n",
       "\n",
       "    .dataframe thead th {\n",
       "        text-align: right;\n",
       "    }\n",
       "</style>\n",
       "<table border=\"1\" class=\"dataframe\">\n",
       "  <thead>\n",
       "    <tr style=\"text-align: right;\">\n",
       "      <th></th>\n",
       "      <th>ID</th>\n",
       "      <th>question</th>\n",
       "      <th>drugCount</th>\n",
       "      <th>ingredientCount</th>\n",
       "      <th>timeCount</th>\n",
       "      <th>quantitiesCount</th>\n",
       "      <th>questionMarkCount</th>\n",
       "      <th>sentenceCount</th>\n",
       "      <th>wordCount</th>\n",
       "      <th>combienCount</th>\n",
       "      <th>pourquoiCount</th>\n",
       "      <th>quandCount</th>\n",
       "      <th>quoiCount</th>\n",
       "      <th>commentCount</th>\n",
       "    </tr>\n",
       "  </thead>\n",
       "  <tbody>\n",
       "    <tr>\n",
       "      <th>0</th>\n",
       "      <td>0</td>\n",
       "      <td>bonjour, trompé forum question alors repose ici. pris première fois hier paroxétine matin catastrophe. picotement dasn tous corps annonciateur sueur froide très très massive vomissement. deux crises depuis heure mat. cela semble passer mains reste moites chaude estce normal première fois merci tous</td>\n",
       "      <td>0</td>\n",
       "      <td>1</td>\n",
       "      <td>2</td>\n",
       "      <td>0</td>\n",
       "      <td>0</td>\n",
       "      <td>5</td>\n",
       "      <td>48</td>\n",
       "      <td>0</td>\n",
       "      <td>0</td>\n",
       "      <td>0</td>\n",
       "      <td>0</td>\n",
       "      <td>0</td>\n",
       "    </tr>\n",
       "    <tr>\n",
       "      <th>1</th>\n",
       "      <td>1</td>\n",
       "      <td>motilium soulagera contre nausées</td>\n",
       "      <td>1</td>\n",
       "      <td>0</td>\n",
       "      <td>0</td>\n",
       "      <td>0</td>\n",
       "      <td>0</td>\n",
       "      <td>1</td>\n",
       "      <td>4</td>\n",
       "      <td>0</td>\n",
       "      <td>0</td>\n",
       "      <td>0</td>\n",
       "      <td>0</td>\n",
       "      <td>0</td>\n",
       "    </tr>\n",
       "  </tbody>\n",
       "</table>\n",
       "</div>"
      ],
      "text/plain": [
       "   ID  \\\n",
       "0   0   \n",
       "1   1   \n",
       "\n",
       "                                                                                                                                                                                                                                                                                                      question  \\\n",
       "0  bonjour, trompé forum question alors repose ici. pris première fois hier paroxétine matin catastrophe. picotement dasn tous corps annonciateur sueur froide très très massive vomissement. deux crises depuis heure mat. cela semble passer mains reste moites chaude estce normal première fois merci tous   \n",
       "1                                                                                                                                                                                                                                                                            motilium soulagera contre nausées   \n",
       "\n",
       "   drugCount  ingredientCount  timeCount  quantitiesCount  questionMarkCount  \\\n",
       "0          0                1          2                0                  0   \n",
       "1          1                0          0                0                  0   \n",
       "\n",
       "   sentenceCount  wordCount  combienCount  pourquoiCount  quandCount  \\\n",
       "0              5         48             0              0           0   \n",
       "1              1          4             0              0           0   \n",
       "\n",
       "   quoiCount  commentCount  \n",
       "0          0             0  \n",
       "1          0             0  "
      ]
     },
     "execution_count": 6,
     "metadata": {},
     "output_type": "execute_result"
    }
   ],
   "source": [
    "pd.set_option(\"display.max_colwidth\",20000)\n",
    "XTrain.head(2)"
   ]
  },
  {
   "cell_type": "code",
   "execution_count": 7,
   "metadata": {},
   "outputs": [
    {
     "data": {
      "text/plain": [
       "Index(['ID', 'question', 'drugCount', 'ingredientCount', 'timeCount',\n",
       "       'quantitiesCount', 'questionMarkCount', 'sentenceCount', 'wordCount',\n",
       "       'combienCount', 'pourquoiCount', 'quandCount', 'quoiCount',\n",
       "       'commentCount'],\n",
       "      dtype='object')"
      ]
     },
     "execution_count": 7,
     "metadata": {},
     "output_type": "execute_result"
    }
   ],
   "source": [
    "XTrain.columns"
   ]
  },
  {
   "cell_type": "code",
   "execution_count": 8,
   "metadata": {},
   "outputs": [],
   "source": [
    "# save the extraction result\n",
    "XTrain.drop([\"question\"], inplace=True, axis=1)\n",
    "XTrain.to_csv(\"../../data/staging_data/text_extracted_features.csv\", index=None)"
   ]
  }
 ],
 "metadata": {
  "kernelspec": {
   "display_name": "Python 3",
   "language": "python",
   "name": "python3"
  },
  "language_info": {
   "codemirror_mode": {
    "name": "ipython",
    "version": 3
   },
   "file_extension": ".py",
   "mimetype": "text/x-python",
   "name": "python",
   "nbconvert_exporter": "python",
   "pygments_lexer": "ipython3",
   "version": "3.6.5"
  }
 },
 "nbformat": 4,
 "nbformat_minor": 2
}
